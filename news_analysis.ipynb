{
 "cells": [
  {
   "cell_type": "markdown",
   "id": "e80e8cc0-62dd-4527-ab35-e140bcefca2b",
   "metadata": {},
   "source": [
    "# Introduction"
   ]
  },
  {
   "cell_type": "markdown",
   "id": "9bf333a0-ff0d-496a-ab6d-744d44fa974c",
   "metadata": {},
   "source": [
    "# 📊 **Financial Article Sentiment and Emotion Analysis**\n",
    "\n",
    "In this notebook, we dive into a comprehensive analysis of **financial articles** from **Yahoo Finance**, with a focus on extracting insights from **sentiments, emotions, and entities** within the articles. Our multi-step approach combines **Natural Language Processing (NLP)** and **time-series stock data** to reveal trends and correlations between market sentiment and stock performance.\n",
    "\n",
    "---\n",
    "\n",
    "### 🛠️ **1. Imports**\n",
    "\n",
    "We begin by importing libraries for **data manipulation**, **NLP**, and **sentiment analysis**. These include tools for web scraping, advanced text analysis, and data visualization to streamline each stage of analysis.\n",
    "\n",
    "---\n",
    "\n",
    "### 📥 **2. Data Loading**\n",
    "\n",
    "We load our primary dataset of financial articles and corresponding **stock data** in CSV format. This combination of article content and stock performance will enable us to analyze sentiment alongside market trends.\n",
    "\n",
    "---\n",
    "\n",
    "### 🧹 **3. Data Cleaning and Preprocessing**\n",
    "\n",
    "Data preparation steps include:\n",
    "\n",
    "- 🔄 **Deduplication** and **missing value handling** for cleaner analysis.\n",
    "- 🧽 **Text preprocessing** by removing URLs, symbols, and stop words.\n",
    "- 📅 **Standardizing dates** to UTC format for time-series analysis consistency.\n",
    "\n",
    "---\n",
    "\n",
    "### 🤖 **4. Sentiment Analysis**\n",
    "\n",
    "To capture sentiment at multiple levels, we apply various NLP models:\n",
    "\n",
    "- **VADER** for quick polarity scoring.\n",
    "- **FinBERT**, a finance-specific model, for deeper sentiment analysis across sentences and articles.\n",
    "- 📊 Aggregating results by article using sum, mean, max, and weighted metrics for comprehensive sentiment insights.\n",
    "\n",
    "---\n",
    "\n",
    "### 💼 **5. Entity Recognition**\n",
    "\n",
    "We use **SpaCy** to extract key entities like companies, products, and locations from each article, enriching our sentiment analysis with context and relevance to specific topics.\n",
    "\n",
    "---\n",
    "\n",
    "### 💬 **6. Emotion Extraction by Sentence**\n",
    "\n",
    "By applying **NRC Lexicon**, we break down each article into sentence-level emotions, capturing a nuanced view of emotional expression. We aggregate emotions across articles using sum, mean, and max metrics, as well as a **weighted mean** to emphasize intense emotions, revealing patterns in emotional tone.\n",
    "\n",
    "---\n",
    "\n",
    "### ⏳ **7. Stock Data Integration**\n",
    "\n",
    "Using **yfinance**, we retrieve hourly stock data for selected companies from **January 1, 2024**, aligning it with article publication times for correlation analysis. The data is stored in UTC to ensure compatibility with the article dataset.\n",
    "\n",
    "---\n",
    "\n",
    "### 📊 **8. Data Overview and Monthly Article Count Visualization**\n",
    "\n",
    "In this step, we’ll display a stacked bar chart showing the monthly article count for each company, giving us a quick view of data distribution over time. All other visualizations, including interactive sentiment and emotion trends, are part of a dedicated dashboard linked at the end of this project.\n",
    "\n",
    "---\n",
    "### 📚 **9. Next Steps**\n",
    "\n",
    "As we progress, this comprehensive DataFrame will serve as a foundation for more in-depth analyses, including potential correlations between sentiment trends and market performance. The insights gained will guide future explorations and applications in financial sentiment analysis.\n",
    "\n",
    "Additionally, the dedicated dashboard will provide an interactive platform for visualizing sentiment and emotional trends, enhancing our ability to interpret data effectively."
   ]
  },
  {
   "cell_type": "markdown",
   "id": "a337f595-c7ea-4d9a-85d8-3e2aea5c30c7",
   "metadata": {},
   "source": [
    "# Imports & Initial Setup"
   ]
  },
  {
   "cell_type": "markdown",
   "id": "3acde2c6-477c-4b22-ba70-43212480d5c5",
   "metadata": {},
   "source": [
    "This section imports essential libraries and modules for data processing, sentiment analysis, and visualization. It also includes setup commands, such as downloading necessary NLTK resources."
   ]
  },
  {
   "cell_type": "markdown",
   "id": "3628f56c-0ab3-4e37-9eeb-f20bbb5f02dc",
   "metadata": {},
   "source": [
    "### Library Imports"
   ]
  },
  {
   "cell_type": "markdown",
   "id": "1a289d8a-5c12-443e-965b-f7c821980f5f",
   "metadata": {},
   "source": [
    "In this subsection, we import libraries for web scraping, data manipulation, and natural language processing. These libraries are key for loading, processing, and analyzing the text data."
   ]
  },
  {
   "cell_type": "code",
   "execution_count": null,
   "id": "7162c9f6-f60d-41d8-a0b4-439d3623e98a",
   "metadata": {},
   "outputs": [],
   "source": [
    "# ! pip install pandas numpy matplotlib nltk textblob nrclex bertopic sentence_transformers transformers bertopic"
   ]
  },
  {
   "cell_type": "code",
   "execution_count": 1,
   "id": "a60414a0-623d-4616-8523-f320842f31d4",
   "metadata": {},
   "outputs": [],
   "source": [
    "import requests\n",
    "from bs4 import BeautifulSoup\n",
    "import urllib.parse\n",
    "import time\n",
    "import numpy as np\n",
    "import pandas as pd\n",
    "import re\n",
    "from nltk.corpus import stopwords\n",
    "import nltk\n",
    "from nltk.sentiment import SentimentIntensityAnalyzer\n",
    "from nltk.tokenize import sent_tokenize\n",
    "from transformers import pipeline\n",
    "import spacy\n",
    "from nrclex import NRCLex\n",
    "from bertopic import BERTopic\n",
    "from transformers import pipeline\n",
    "from sentence_transformers import SentenceTransformer, util\n",
    "from utils import *\n",
    "import yfinance as yf\n",
    "import matplotlib.pyplot as plt\n",
    "import plotly.express as px"
   ]
  },
  {
   "cell_type": "markdown",
   "id": "44303797-4fcb-454d-a2c2-8bac89f0aa51",
   "metadata": {},
   "source": [
    "### NLTK Setup"
   ]
  },
  {
   "cell_type": "markdown",
   "id": "d3b71447-5920-4faa-9e7e-7763aaac4ebe",
   "metadata": {},
   "source": [
    "This step ensures that required NLTK resources, such as stopwords and sentiment lexicons, are available for text processing and sentiment analysis."
   ]
  },
  {
   "cell_type": "code",
   "execution_count": 2,
   "id": "f8e12ce3-2d63-4db6-bfe4-90ad679c8eb5",
   "metadata": {},
   "outputs": [
    {
     "name": "stderr",
     "output_type": "stream",
     "text": [
      "[nltk_data] Downloading package stopwords to\n",
      "[nltk_data]     C:\\Users\\arie8\\AppData\\Roaming\\nltk_data...\n",
      "[nltk_data]   Package stopwords is already up-to-date!\n",
      "[nltk_data] Downloading package punkt to\n",
      "[nltk_data]     C:\\Users\\arie8\\AppData\\Roaming\\nltk_data...\n",
      "[nltk_data]   Package punkt is already up-to-date!\n",
      "[nltk_data] Downloading package punkt_tab to\n",
      "[nltk_data]     C:\\Users\\arie8\\AppData\\Roaming\\nltk_data...\n",
      "[nltk_data]   Package punkt_tab is already up-to-date!\n",
      "[nltk_data] Downloading package vader_lexicon to\n",
      "[nltk_data]     C:\\Users\\arie8\\AppData\\Roaming\\nltk_data...\n",
      "[nltk_data]   Package vader_lexicon is already up-to-date!\n"
     ]
    },
    {
     "data": {
      "text/plain": [
       "True"
      ]
     },
     "execution_count": 2,
     "metadata": {},
     "output_type": "execute_result"
    }
   ],
   "source": [
    "# Download necessary NLTK data resources\n",
    "nltk.download('stopwords')\n",
    "nltk.download('punkt_tab')\n",
    "nltk.download('punkt')  # for sentence tokenization\n",
    "nltk.download('vader_lexicon')  # for sentiment analysis"
   ]
  },
  {
   "cell_type": "markdown",
   "id": "b692d24a-7d67-4b40-9c2f-a511c16fcff8",
   "metadata": {},
   "source": [
    "### Data Loading and Initial Cleaning"
   ]
  },
  {
   "cell_type": "markdown",
   "id": "91dd7c51-9609-4ce0-8798-d8a30826b196",
   "metadata": {},
   "source": [
    "In this section, we load article data for the top S&P 500 companies from JSON files, organized by month, and store each company's data in a dictionary. Next, we preprocess the data by converting dates to a standard format, removing duplicates, and adding temporal features."
   ]
  },
  {
   "cell_type": "code",
   "execution_count": null,
   "id": "17678864-d796-49fc-8c53-784cf4632d4a",
   "metadata": {},
   "outputs": [],
   "source": [
    "dfs = {}\n",
    "year = 2024\n",
    "\n",
    "for company in SP_TOP:\n",
    "    tmp_df = pd.DataFrame()\n",
    "    for month in range(1, 11):\n",
    "        path = f'./articles/{company}/{year}/{month}_articles.json'\n",
    "        tmp_df = pd.concat([tmp_df, pd.read_json(path)], ignore_index=True)\n",
    "    \n",
    "    tmp_df.reset_index(drop=True, inplace=True)\n",
    "    dfs[company] = tmp_df"
   ]
  },
  {
   "cell_type": "code",
   "execution_count": null,
   "id": "09c94f02-958e-44ff-b95d-c1f580aee585",
   "metadata": {
    "scrolled": true
   },
   "outputs": [],
   "source": [
    "import pandas as pd\n",
    "\n",
    "for key in dfs.keys():\n",
    "    # Convert the date column to datetime\n",
    "    dfs[key]['Date'] = pd.to_datetime(dfs[key]['Date'])\n",
    "    \n",
    "    # Sort the DataFrame by the 'Date' column\n",
    "    dfs[key] = dfs[key].sort_values(by='Date')\n",
    "    print(f'Shape before removing duplicates from {key}: ' + str(dfs[key].shape))\n",
    "    \n",
    "    # Remove duplicate rows based on 'Title' and 'Date'\n",
    "    dfs[key] = dfs[key].drop_duplicates(subset=['Title', 'Date'])\n",
    "    dfs[key].dropna(inplace=True)\n",
    "    \n",
    "    # Optionally, reset the index if you want a clean index after dropping duplicates\n",
    "    dfs[key].reset_index(drop=True, inplace=True)\n",
    "    \n",
    "    print(f'Shape after removing duplicates from {key}: ' + str(dfs[key].shape))\n",
    "    \n",
    "    # Extract month for grouping\n",
    "    dfs[key]['Month'] = dfs[key]['Date'].dt.to_period('M')\n",
    "    dfs[key]['Week'] = dfs[key]['Date'].dt.to_period('W')\n",
    "    dfs[key]['Company'] = key"
   ]
  },
  {
   "cell_type": "code",
   "execution_count": null,
   "id": "5eaf8878-fbca-4b6d-a82c-8b53c2893537",
   "metadata": {},
   "outputs": [],
   "source": [
    "df = pd.concat(dfs, ignore_index=True)\n",
    "df.info()"
   ]
  },
  {
   "cell_type": "markdown",
   "id": "539d6fc7-6709-4d58-ae11-32af46989f7d",
   "metadata": {},
   "source": [
    "### Text Cleaning"
   ]
  },
  {
   "cell_type": "markdown",
   "id": "1af3eac8-45b9-438b-b9f7-864829e8287a",
   "metadata": {},
   "source": [
    "This section defines and applies a text-cleaning function to remove unwanted elements like URLs, special characters, and excess whitespace. The cleaned text is saved in a new column for further analysis."
   ]
  },
  {
   "cell_type": "code",
   "execution_count": null,
   "id": "2b2ec80c-8a37-4706-820c-b8484a7aeb20",
   "metadata": {},
   "outputs": [],
   "source": [
    "# Function to clean text\n",
    "def clean_text(text):\n",
    "    # Remove URLs\n",
    "    text = re.sub(r'http\\\\S+|www\\\\S+|https\\\\S+', ' ', text, flags=re.MULTILINE)\n",
    "    # Remove mentions and hashtags\n",
    "    text = re.sub(r'\\\\@\\\\w+|\\\\#', ' ', text)\n",
    "    # Remove special characters and numbers, but keep spaces\n",
    "    text = re.sub(r'[^A-Za-z\\\\s]', ' ', text)\n",
    "    # Convert to lowercase\n",
    "    text = text.lower()\n",
    "    # Remove extra spaces but keep single spaces\n",
    "    text = re.sub(r'\\\\s+', ' ', text).strip()\n",
    "    return text\n",
    "\n",
    "# Apply cleaning\n",
    "df['clean_content_context'] = df['Text'].apply(clean_text)\n",
    "\n",
    "# Display the first few rows of the cleaned dataset\n",
    "df.head()\n"
   ]
  },
  {
   "cell_type": "markdown",
   "id": "2b93efb4-315d-4c6a-8263-d2a342b3ce71",
   "metadata": {},
   "source": [
    "### Text Tokenization"
   ]
  },
  {
   "cell_type": "markdown",
   "id": "8b6cbebf-c8dc-49c5-9ce2-a4d85ddad23c",
   "metadata": {},
   "source": [
    "To prepare for sentence-level analysis, we tokenize each article's text into sentences and store these in a new column for use in further sentiment analysis and topic modeling."
   ]
  },
  {
   "cell_type": "code",
   "execution_count": null,
   "id": "685fd50b-03a6-477c-818e-0c96ad06903e",
   "metadata": {},
   "outputs": [],
   "source": [
    "from nltk.tokenize import sent_tokenize\n",
    "\n",
    "# Tokenize the text into sentences\n",
    "df['text_sentences'] = df['Text'].apply(sent_tokenize)\n",
    "\n",
    "# Print the title of the first article\n",
    "print(df.iloc[0]['Title'])\n",
    "\n",
    "# Display the sentences of the first article\n",
    "df.iloc[0]['text_sentences']"
   ]
  },
  {
   "cell_type": "markdown",
   "id": "00b9bd1d-0203-4083-935d-943e46d1c1ce",
   "metadata": {},
   "source": [
    "### Data Summary"
   ]
  },
  {
   "cell_type": "markdown",
   "id": "2d89858c-1b93-4aa3-b4b0-9cf17b26e5a5",
   "metadata": {},
   "source": [
    "Finally, we display the overall shape of the DataFrame and the first few rows to verify data readiness before proceeding to analysis and visualization."
   ]
  },
  {
   "cell_type": "code",
   "execution_count": 10,
   "id": "1efb0682-870d-493e-bc7f-164fda62fa53",
   "metadata": {},
   "outputs": [
    {
     "name": "stdout",
     "output_type": "stream",
     "text": [
      "(10932, 10)\n"
     ]
    },
    {
     "data": {
      "text/html": [
       "<div>\n",
       "<style scoped>\n",
       "    .dataframe tbody tr th:only-of-type {\n",
       "        vertical-align: middle;\n",
       "    }\n",
       "\n",
       "    .dataframe tbody tr th {\n",
       "        vertical-align: top;\n",
       "    }\n",
       "\n",
       "    .dataframe thead th {\n",
       "        text-align: right;\n",
       "    }\n",
       "</style>\n",
       "<table border=\"1\" class=\"dataframe\">\n",
       "  <thead>\n",
       "    <tr style=\"text-align: right;\">\n",
       "      <th></th>\n",
       "      <th>Unnamed: 0</th>\n",
       "      <th>Date</th>\n",
       "      <th>Title</th>\n",
       "      <th>Author</th>\n",
       "      <th>Text</th>\n",
       "      <th>Month</th>\n",
       "      <th>Week</th>\n",
       "      <th>Company</th>\n",
       "      <th>clean_content_context</th>\n",
       "      <th>text_sentences</th>\n",
       "    </tr>\n",
       "  </thead>\n",
       "  <tbody>\n",
       "    <tr>\n",
       "      <th>0</th>\n",
       "      <td>0</td>\n",
       "      <td>2024-01-02 10:05:00+00:00</td>\n",
       "      <td>Better Growth Stock in 2024: Amazon vs. Apple</td>\n",
       "      <td>Dani Cook, The Motley Fool</td>\n",
       "      <td>The new year is here, and there are plenty of ...</td>\n",
       "      <td>2024-01</td>\n",
       "      <td>2024-01-01/2024-01-07</td>\n",
       "      <td>Apple</td>\n",
       "      <td>the new year is here  and there are plenty of ...</td>\n",
       "      <td>['The new year is here, and there are plenty o...</td>\n",
       "    </tr>\n",
       "    <tr>\n",
       "      <th>1</th>\n",
       "      <td>1</td>\n",
       "      <td>2024-05-20 05:29:10+00:00</td>\n",
       "      <td>Solana Wallet Phantom Surges to Third Place on...</td>\n",
       "      <td>Hope C</td>\n",
       "      <td>Phantom Wallet, a popular cryptocurrency walle...</td>\n",
       "      <td>2024-05</td>\n",
       "      <td>2024-05-20/2024-05-26</td>\n",
       "      <td>Apple</td>\n",
       "      <td>phantom wallet  a popular cryptocurrency walle...</td>\n",
       "      <td>['Phantom Wallet, a popular cryptocurrency wal...</td>\n",
       "    </tr>\n",
       "    <tr>\n",
       "      <th>2</th>\n",
       "      <td>2</td>\n",
       "      <td>2024-08-14 08:57:11+00:00</td>\n",
       "      <td>Apple supplier Foxconn's profit beats forecast...</td>\n",
       "      <td>Yimou Lee and Faith Hung</td>\n",
       "      <td>By Yimou Lee and Faith Hung\\nTAIPEI (Reuters) ...</td>\n",
       "      <td>2024-08</td>\n",
       "      <td>2024-08-12/2024-08-18</td>\n",
       "      <td>Apple</td>\n",
       "      <td>by yimou lee and faith hung taipei  reuters   ...</td>\n",
       "      <td>['By Yimou Lee and Faith Hung TAIPEI (Reuters)...</td>\n",
       "    </tr>\n",
       "    <tr>\n",
       "      <th>3</th>\n",
       "      <td>3</td>\n",
       "      <td>2024-01-03 14:42:51+00:00</td>\n",
       "      <td>1 Artificial Intelligence (AI) Stock Poised to...</td>\n",
       "      <td>Parkev Tatevosian, CFA, The Motley Fool</td>\n",
       "      <td>Fool.com contributor Parkev Tatevosian highlig...</td>\n",
       "      <td>2024-01</td>\n",
       "      <td>2024-01-01/2024-01-07</td>\n",
       "      <td>Microsoft</td>\n",
       "      <td>fool com contributor parkev tatevosian highlig...</td>\n",
       "      <td>['Fool.com contributor Parkev Tatevosian highl...</td>\n",
       "    </tr>\n",
       "    <tr>\n",
       "      <th>4</th>\n",
       "      <td>4</td>\n",
       "      <td>2024-07-01 20:38:25+00:00</td>\n",
       "      <td>Ballmer Is Richer Than Gates, a First for Micr...</td>\n",
       "      <td>Vernal Galpotthawela</td>\n",
       "      <td>(Bloomberg) -- Steve Ballmer passed Bill Gates...</td>\n",
       "      <td>2024-07</td>\n",
       "      <td>2024-07-01/2024-07-07</td>\n",
       "      <td>Microsoft</td>\n",
       "      <td>bloomberg     steve ballmer passed bill gates ...</td>\n",
       "      <td>['(Bloomberg) -- Steve Ballmer passed Bill Gat...</td>\n",
       "    </tr>\n",
       "  </tbody>\n",
       "</table>\n",
       "</div>"
      ],
      "text/plain": [
       "   Unnamed: 0                       Date  \\\n",
       "0           0  2024-01-02 10:05:00+00:00   \n",
       "1           1  2024-05-20 05:29:10+00:00   \n",
       "2           2  2024-08-14 08:57:11+00:00   \n",
       "3           3  2024-01-03 14:42:51+00:00   \n",
       "4           4  2024-07-01 20:38:25+00:00   \n",
       "\n",
       "                                               Title  \\\n",
       "0      Better Growth Stock in 2024: Amazon vs. Apple   \n",
       "1  Solana Wallet Phantom Surges to Third Place on...   \n",
       "2  Apple supplier Foxconn's profit beats forecast...   \n",
       "3  1 Artificial Intelligence (AI) Stock Poised to...   \n",
       "4  Ballmer Is Richer Than Gates, a First for Micr...   \n",
       "\n",
       "                                       Author  \\\n",
       "0                 Dani Cook, The Motley Fool    \n",
       "1                                     Hope C    \n",
       "2                   Yimou Lee and Faith Hung    \n",
       "3    Parkev Tatevosian, CFA, The Motley Fool    \n",
       "4                       Vernal Galpotthawela    \n",
       "\n",
       "                                                Text    Month  \\\n",
       "0  The new year is here, and there are plenty of ...  2024-01   \n",
       "1  Phantom Wallet, a popular cryptocurrency walle...  2024-05   \n",
       "2  By Yimou Lee and Faith Hung\\nTAIPEI (Reuters) ...  2024-08   \n",
       "3  Fool.com contributor Parkev Tatevosian highlig...  2024-01   \n",
       "4  (Bloomberg) -- Steve Ballmer passed Bill Gates...  2024-07   \n",
       "\n",
       "                    Week    Company  \\\n",
       "0  2024-01-01/2024-01-07      Apple   \n",
       "1  2024-05-20/2024-05-26      Apple   \n",
       "2  2024-08-12/2024-08-18      Apple   \n",
       "3  2024-01-01/2024-01-07  Microsoft   \n",
       "4  2024-07-01/2024-07-07  Microsoft   \n",
       "\n",
       "                               clean_content_context  \\\n",
       "0  the new year is here  and there are plenty of ...   \n",
       "1  phantom wallet  a popular cryptocurrency walle...   \n",
       "2  by yimou lee and faith hung taipei  reuters   ...   \n",
       "3  fool com contributor parkev tatevosian highlig...   \n",
       "4  bloomberg     steve ballmer passed bill gates ...   \n",
       "\n",
       "                                      text_sentences  \n",
       "0  ['The new year is here, and there are plenty o...  \n",
       "1  ['Phantom Wallet, a popular cryptocurrency wal...  \n",
       "2  ['By Yimou Lee and Faith Hung TAIPEI (Reuters)...  \n",
       "3  ['Fool.com contributor Parkev Tatevosian highl...  \n",
       "4  ['(Bloomberg) -- Steve Ballmer passed Bill Gat...  "
      ]
     },
     "execution_count": 10,
     "metadata": {},
     "output_type": "execute_result"
    }
   ],
   "source": [
    "print(df.shape)\n",
    "df.head()"
   ]
  },
  {
   "cell_type": "markdown",
   "id": "49018517-8112-481a-a518-039a61377747",
   "metadata": {},
   "source": [
    "### Sentence Embedding and Filtering with Similarity"
   ]
  },
  {
   "cell_type": "markdown",
   "id": "0f144fe4-35fe-4973-9f76-94d9c3991300",
   "metadata": {},
   "source": [
    "This section demonstrates how to leverage sentence embeddings and similarity metrics to filter sentences based on their relevance to a core sentence, using a pre-trained transformer model. This approach helps in selecting sentences that align closely with the core topic of the article."
   ]
  },
  {
   "cell_type": "code",
   "execution_count": null,
   "id": "92e66f15-8f38-423b-b3de-3d6ce8b30be5",
   "metadata": {},
   "outputs": [],
   "source": [
    "from sentence_transformers import SentenceTransformer, util\n",
    "\n",
    "# Load a pre-trained sentence transformer model\n",
    "model = SentenceTransformer('paraphrase-MiniLM-L6-v2')\n",
    "\n",
    "# Define a core sentence related to the article\n",
    "core_sentence = \"Microsoft's stock has performed strongly over the last five years.\"\n",
    "\n",
    "# Encode the core sentence\n",
    "core_embedding = model.encode(core_sentence)\n",
    "\n",
    "# Your article sentences (assuming df['text_sentences'] contains the sentences)\n",
    "sentences = df.iloc[0]['text_sentences']\n",
    "\n",
    "# Filter sentences based on similarity to the core sentence\n",
    "filtered_sentences = []\n",
    "for sentence in sentences:\n",
    "    sentence_embedding = model.encode(sentence)\n",
    "    similarity = util.pytorch_cos_sim(core_embedding, sentence_embedding)\n",
    "\n",
    "    # If similarity is above a certain threshold, keep the sentence\n",
    "    if similarity.item() > 0.2:  # Adjust threshold as necessary\n",
    "        filtered_sentences.append(sentence)\n",
    "\n",
    "# Output the filtered sentences as a single string\n",
    "filtered_output = ' '.join(filtered_sentences)\n",
    "filtered_output\n"
   ]
  },
  {
   "cell_type": "markdown",
   "id": "1aee2b9a-0eb9-4b07-bb2b-46632c5b235a",
   "metadata": {},
   "source": [
    "### Checking for Long Sentences"
   ]
  },
  {
   "cell_type": "markdown",
   "id": "1b56e2e6-703e-4037-b274-42942ff1d074",
   "metadata": {},
   "source": [
    "This section provides a function to split sentences that exceed the model’s maximum input length of 512 tokens into smaller chunks. This is useful for processing lengthy sentences without truncating them, maintaining the context and continuity."
   ]
  },
  {
   "cell_type": "code",
   "execution_count": null,
   "id": "a0e45665-c45f-4446-be5b-0a7ff6378001",
   "metadata": {},
   "outputs": [],
   "source": [
    "# Function to check for sentences longer than 512 characters\n",
    "def check_long_sentences(sentences):\n",
    "    return sum(len(sentence) > 512 for sentence in sentences)\n",
    "\n",
    "# Create a new column indicating whether any sentence exceeds 512 characters\n",
    "long_sentence_count = df['text_sentences'].apply(check_long_sentences).sum()\n",
    "\n",
    "# Output the total count of long sentences\n",
    "long_sentence_count"
   ]
  },
  {
   "cell_type": "code",
   "execution_count": null,
   "id": "02d84e83-158a-4d28-bf8f-2433a23fa5e6",
   "metadata": {},
   "outputs": [],
   "source": [
    "max_words = 512\n",
    "\n",
    "def split_long_sentences(sentences, max_chars=512):\n",
    "    new_sentences = []\n",
    "\n",
    "    for sentence in sentences:\n",
    "        words = sentence.split()\n",
    "        current_chunk = []\n",
    "        current_length = 0\n",
    "        \n",
    "        for word in words:\n",
    "            word_length = len(word) + 1  # +1 for the space or delimiter\n",
    "            if word_length > max_words:\n",
    "                word = ''\n",
    "            # Check if adding this word exceeds the max_chars limit\n",
    "            if current_length + word_length <= max_chars:\n",
    "                current_chunk.append(word)\n",
    "                current_length += word_length\n",
    "            else:\n",
    "                # If the chunk is full, append it to new_sentences and start a new chunk\n",
    "                new_sentences.append(' '.join(current_chunk))\n",
    "                current_chunk = [word]\n",
    "                current_length = word_length  # reset the length for the new chunk\n",
    "        \n",
    "        # Append the last chunk if there are remaining words\n",
    "        if current_chunk:\n",
    "            new_sentences.append(' '.join(current_chunk))\n",
    "\n",
    "    return new_sentences\n",
    "\n",
    "# Apply the function to the text_sentences column\n",
    "df['text_sentences'] = df['text_sentences'].apply(split_long_sentences)\n",
    "\n",
    "# Create a new column indicating whether any sentence exceeds 512 characters\n",
    "long_sentence_count = df['text_sentences'].apply(check_long_sentences).sum()\n",
    "\n",
    "# Output the total count of long sentences\n",
    "long_sentence_count"
   ]
  },
  {
   "cell_type": "markdown",
   "id": "a93355af-8521-46a5-be80-8ac731a00f94",
   "metadata": {},
   "source": [
    "# Sentiment Analysis Section"
   ]
  },
  {
   "cell_type": "markdown",
   "id": "70714b17-7035-47cf-a0ba-e1f9c212c5c5",
   "metadata": {},
   "source": [
    "In this section, we apply various sentiment analysis techniques to our dataset to extract different types of sentiment information, including general sentiment, emotions, and finance-specific sentiment. This analysis will provide insights into the overall tone, emotions, and subjectivity in our news articles."
   ]
  },
  {
   "cell_type": "markdown",
   "id": "e42eb393-af32-4e52-a459-795913cabe1c",
   "metadata": {},
   "source": [
    "### General Sentiment Analysis\n"
   ]
  },
  {
   "cell_type": "markdown",
   "id": "a9a5c8f1-757a-4feb-8dde-ce7aef1ee182",
   "metadata": {},
   "source": [
    "We start by performing general sentiment analysis using the VADER (Valence Aware Dictionary and sEntiment Reasoner) model from NLTK, which is specifically designed to analyze sentiments in social media text. VADER provides a compound score representing overall sentiment (positive, neutral, or negative)."
   ]
  },
  {
   "cell_type": "code",
   "execution_count": null,
   "id": "1fb44914-2a43-4021-a5cf-a2ae4912018c",
   "metadata": {},
   "outputs": [],
   "source": [
    "import pandas as pd\n",
    "from nltk.sentiment import SentimentIntensityAnalyzer\n",
    "\n",
    "# Initialize Sentiment Intensity Analyzer (VADER) for sentiment analysis\n",
    "sia = SentimentIntensityAnalyzer()\n",
    "\n",
    "# Apply VADER's polarity_scores function to each text in the 'Text' column of the DataFrame\n",
    "# This returns a dictionary of sentiment scores for each text (compound, positive, neutral, negative)\n",
    "vader = df['Text'].apply(sia.polarity_scores)\n",
    "\n",
    "# Convert the list of dictionaries containing sentiment scores into a DataFrame\n",
    "vader_sentiment_df = pd.DataFrame(vader.tolist())\n",
    "\n",
    "# Display the first few rows of the resulting DataFrame to inspect the sentiment scores\n",
    "vader_sentiment_df.head()"
   ]
  },
  {
   "cell_type": "markdown",
   "id": "b119a5eb-85a3-48e6-8acf-82ad236b34ac",
   "metadata": {},
   "source": [
    "### Finance-Specific Sentiment Analysis"
   ]
  },
  {
   "cell_type": "markdown",
   "id": "ab4d7b66-348f-4eaa-8a6f-e49cf373ae8f",
   "metadata": {},
   "source": [
    "Next, we use FinBERT, a sentiment analysis model fine-tuned on financial text, which is especially suitable for analyzing the sentiment in finance-related articles. This model will help us capture nuances in financial sentiment, such as the impact of news on stock prices."
   ]
  },
  {
   "cell_type": "code",
   "execution_count": null,
   "id": "6c15a7c5-b8b1-4e00-8696-cd3011e0b259",
   "metadata": {},
   "outputs": [],
   "source": [
    "from transformers import pipeline\n",
    "\n",
    "# Initialize FinBERT pipeline for sentiment analysis using a model fine-tuned for financial text\n",
    "try:\n",
    "    # Load the FinBERT model and tokenizer for sentiment analysis\n",
    "    finbert_pipeline = pipeline(\"sentiment-analysis\", model=\"yiyanghkust/finbert-tone\", tokenizer=\"yiyanghkust/finbert-tone\")\n",
    "except Exception as e:\n",
    "    # Print an error message if the model fails to load\n",
    "    print(f\"Error loading FinBERT model: {e}\")\n",
    "\n",
    "# Attempt to apply the FinBERT pipeline to the 'text_sentences' column of the DataFrame\n",
    "try:\n",
    "    # Apply the FinBERT pipeline to each list of sentences in the DataFrame\n",
    "    finbert = df['text_sentences'].apply(finbert_pipeline)\n",
    "except Exception as e:\n",
    "    # Print an error message if there is an issue during the application\n",
    "    print(f\"Error applying FinBERT to text_sentences: {e}\")\n",
    "\n",
    "# Drop rows with NaN values in the resulting DataFrame\n",
    "finbert.dropna(inplace=True)\n",
    "\n",
    "# Display the first few rows of the FinBERT results\n",
    "finbert.head()"
   ]
  },
  {
   "cell_type": "code",
   "execution_count": null,
   "id": "3609ff0c-3f49-486d-9371-6fb1a275af48",
   "metadata": {},
   "outputs": [],
   "source": [
    "import pandas as pd\n",
    "\n",
    "def aggregate_sentiments(sentiment_results):\n",
    "    # Mapping of labels to numerical values\n",
    "    label_to_score = {\n",
    "        'Positive': 1,\n",
    "        'Neutral': 0,\n",
    "        'Negative': -1\n",
    "    }\n",
    "    \n",
    "    # Initialize variables for weighted sum and total score\n",
    "    weighted_sum = 0\n",
    "    total_score = 0\n",
    "    \n",
    "    # Iterate over the list of sentiment dictionaries\n",
    "    for result in sentiment_results:\n",
    "        label = result['label']\n",
    "        score = result['score']\n",
    "        \n",
    "        # Calculate the weighted contribution of each result\n",
    "        weighted_sum += label_to_score[label] * score\n",
    "        total_score += score\n",
    "    \n",
    "    # Normalize the weighted sum by the total score if it's greater than zero\n",
    "    if total_score > 0:\n",
    "        aggregated_score = weighted_sum / total_score\n",
    "    else:\n",
    "        aggregated_score = 0\n",
    "    \n",
    "    # Determine the overall sentiment based on the aggregated score\n",
    "    if aggregated_score > 0.2:\n",
    "        overall_sentiment = 'Positive'\n",
    "    elif aggregated_score < -0.2:\n",
    "        overall_sentiment = 'Negative'\n",
    "    else:\n",
    "        overall_sentiment = 'Neutral'\n",
    "    \n",
    "    return {\n",
    "        'aggregated_score': aggregated_score,\n",
    "        'overall_sentiment': overall_sentiment\n",
    "    }\n",
    "\n",
    "# Example usage with the sentiment results list\n",
    "agg_finbert_df = pd.DataFrame(finbert.apply(aggregate_sentiments).tolist())\n",
    "agg_finbert_df.head()"
   ]
  },
  {
   "cell_type": "code",
   "execution_count": 12,
   "id": "e7d28f6d-ff2a-4d5f-9f91-8fa46ca591cf",
   "metadata": {},
   "outputs": [
    {
     "data": {
      "text/html": [
       "<div>\n",
       "<style scoped>\n",
       "    .dataframe tbody tr th:only-of-type {\n",
       "        vertical-align: middle;\n",
       "    }\n",
       "\n",
       "    .dataframe tbody tr th {\n",
       "        vertical-align: top;\n",
       "    }\n",
       "\n",
       "    .dataframe thead th {\n",
       "        text-align: right;\n",
       "    }\n",
       "</style>\n",
       "<table border=\"1\" class=\"dataframe\">\n",
       "  <thead>\n",
       "    <tr style=\"text-align: right;\">\n",
       "      <th></th>\n",
       "      <th>Finbert_sentence_list</th>\n",
       "    </tr>\n",
       "  </thead>\n",
       "  <tbody>\n",
       "    <tr>\n",
       "      <th>0</th>\n",
       "      <td>[{'label': 'Positive', 'score': 0.999999880790...</td>\n",
       "    </tr>\n",
       "    <tr>\n",
       "      <th>1</th>\n",
       "      <td>[{'label': 'Neutral', 'score': 0.9995475411415...</td>\n",
       "    </tr>\n",
       "    <tr>\n",
       "      <th>2</th>\n",
       "      <td>[{'label': 'Positive', 'score': 0.960056066513...</td>\n",
       "    </tr>\n",
       "    <tr>\n",
       "      <th>3</th>\n",
       "      <td>[{'label': 'Neutral', 'score': 0.9999991655349...</td>\n",
       "    </tr>\n",
       "    <tr>\n",
       "      <th>4</th>\n",
       "      <td>[{'label': 'Neutral', 'score': 0.9983786344528...</td>\n",
       "    </tr>\n",
       "  </tbody>\n",
       "</table>\n",
       "</div>"
      ],
      "text/plain": [
       "                               Finbert_sentence_list\n",
       "0  [{'label': 'Positive', 'score': 0.999999880790...\n",
       "1  [{'label': 'Neutral', 'score': 0.9995475411415...\n",
       "2  [{'label': 'Positive', 'score': 0.960056066513...\n",
       "3  [{'label': 'Neutral', 'score': 0.9999991655349...\n",
       "4  [{'label': 'Neutral', 'score': 0.9983786344528..."
      ]
     },
     "execution_count": 12,
     "metadata": {},
     "output_type": "execute_result"
    }
   ],
   "source": [
    "finbert.head()"
   ]
  },
  {
   "cell_type": "code",
   "execution_count": 13,
   "id": "bab61a39-aaa3-4ceb-98c0-866f75ffb135",
   "metadata": {},
   "outputs": [
    {
     "data": {
      "text/plain": [
       "(10932, 1)"
      ]
     },
     "execution_count": 13,
     "metadata": {},
     "output_type": "execute_result"
    }
   ],
   "source": [
    "finbert.shape"
   ]
  },
  {
   "cell_type": "code",
   "execution_count": 15,
   "id": "4383074c-a270-48a0-947a-ce1118ca88f2",
   "metadata": {},
   "outputs": [
    {
     "data": {
      "text/html": [
       "<div>\n",
       "<style scoped>\n",
       "    .dataframe tbody tr th:only-of-type {\n",
       "        vertical-align: middle;\n",
       "    }\n",
       "\n",
       "    .dataframe tbody tr th {\n",
       "        vertical-align: top;\n",
       "    }\n",
       "\n",
       "    .dataframe thead th {\n",
       "        text-align: right;\n",
       "    }\n",
       "</style>\n",
       "<table border=\"1\" class=\"dataframe\">\n",
       "  <thead>\n",
       "    <tr style=\"text-align: right;\">\n",
       "      <th></th>\n",
       "      <th>aggregated_score</th>\n",
       "      <th>overall_sentiment</th>\n",
       "    </tr>\n",
       "  </thead>\n",
       "  <tbody>\n",
       "    <tr>\n",
       "      <th>0</th>\n",
       "      <td>0.495607</td>\n",
       "      <td>Positive</td>\n",
       "    </tr>\n",
       "    <tr>\n",
       "      <th>1</th>\n",
       "      <td>-0.113737</td>\n",
       "      <td>Neutral</td>\n",
       "    </tr>\n",
       "    <tr>\n",
       "      <th>2</th>\n",
       "      <td>-0.034629</td>\n",
       "      <td>Neutral</td>\n",
       "    </tr>\n",
       "    <tr>\n",
       "      <th>3</th>\n",
       "      <td>0.376433</td>\n",
       "      <td>Positive</td>\n",
       "    </tr>\n",
       "    <tr>\n",
       "      <th>4</th>\n",
       "      <td>0.512482</td>\n",
       "      <td>Positive</td>\n",
       "    </tr>\n",
       "  </tbody>\n",
       "</table>\n",
       "</div>"
      ],
      "text/plain": [
       "   aggregated_score overall_sentiment\n",
       "0          0.495607          Positive\n",
       "1         -0.113737           Neutral\n",
       "2         -0.034629           Neutral\n",
       "3          0.376433          Positive\n",
       "4          0.512482          Positive"
      ]
     },
     "execution_count": 15,
     "metadata": {},
     "output_type": "execute_result"
    }
   ],
   "source": [
    "agg_finbert_df.head()"
   ]
  },
  {
   "cell_type": "markdown",
   "id": "21ce0e8d-0245-4e36-a83b-2fb10b6978f5",
   "metadata": {},
   "source": [
    "### Loughran-McDonald Financial Sentiment Dictionary"
   ]
  },
  {
   "cell_type": "markdown",
   "id": "bd3497c2-9141-4cc2-8027-60e5a53c83f3",
   "metadata": {},
   "source": [
    "We use the Loughran-McDonald sentiment word lists, tailored for financial documents, to calculate word counts for specific financial sentiments, such as positive, negative, and uncertain words. This method is useful for examining sentiment trends in financial news at a finer granularity."
   ]
  },
  {
   "cell_type": "markdown",
   "id": "e4da0048-2a70-47d1-a019-a03cdd4c44fe",
   "metadata": {},
   "source": [
    "**Loughran-McDonald Master Dictionary**\n",
    "\n",
    "You can access the Loughran-McDonald Master Dictionary [here](https://sraf.nd.edu/loughranmcdonald-master-dictionary/).\n",
    "\n",
    "**Sentiment Categories:**\n",
    "- Negative\n",
    "- Positive\n",
    "- Uncertainty\n",
    "- Litigious\n",
    "- Strong Modal\n",
    "- Weak Modal\n",
    "- Constraining\n",
    "\n",
    "The sentiment words are flagged with a number indicating the year in which they were added to the list. Note: A year preceded by a negative sign indicates the year/version when the word was removed from the sentiment category."
   ]
  },
  {
   "cell_type": "code",
   "execution_count": 30,
   "id": "e7b60996-2ee6-4d45-9c2e-911cd719fe52",
   "metadata": {},
   "outputs": [
    {
     "data": {
      "text/html": [
       "<div>\n",
       "<style scoped>\n",
       "    .dataframe tbody tr th:only-of-type {\n",
       "        vertical-align: middle;\n",
       "    }\n",
       "\n",
       "    .dataframe tbody tr th {\n",
       "        vertical-align: top;\n",
       "    }\n",
       "\n",
       "    .dataframe thead th {\n",
       "        text-align: right;\n",
       "    }\n",
       "</style>\n",
       "<table border=\"1\" class=\"dataframe\">\n",
       "  <thead>\n",
       "    <tr style=\"text-align: right;\">\n",
       "      <th></th>\n",
       "      <th>Word</th>\n",
       "      <th>Seq_num</th>\n",
       "      <th>Word Count</th>\n",
       "      <th>Word Proportion</th>\n",
       "      <th>Average Proportion</th>\n",
       "      <th>Std Dev</th>\n",
       "      <th>Doc Count</th>\n",
       "      <th>Negative</th>\n",
       "      <th>Positive</th>\n",
       "      <th>Uncertainty</th>\n",
       "      <th>Litigious</th>\n",
       "      <th>Strong_Modal</th>\n",
       "      <th>Weak_Modal</th>\n",
       "      <th>Constraining</th>\n",
       "      <th>Complexity</th>\n",
       "      <th>Syllables</th>\n",
       "      <th>Source</th>\n",
       "    </tr>\n",
       "  </thead>\n",
       "  <tbody>\n",
       "    <tr>\n",
       "      <th>0</th>\n",
       "      <td>AARDVARK</td>\n",
       "      <td>1</td>\n",
       "      <td>664</td>\n",
       "      <td>2.690000e-08</td>\n",
       "      <td>1.860000e-08</td>\n",
       "      <td>4.050000e-06</td>\n",
       "      <td>131</td>\n",
       "      <td>0</td>\n",
       "      <td>0</td>\n",
       "      <td>0</td>\n",
       "      <td>0</td>\n",
       "      <td>0</td>\n",
       "      <td>0</td>\n",
       "      <td>0</td>\n",
       "      <td>0</td>\n",
       "      <td>2</td>\n",
       "      <td>12of12inf</td>\n",
       "    </tr>\n",
       "    <tr>\n",
       "      <th>1</th>\n",
       "      <td>AARDVARKS</td>\n",
       "      <td>2</td>\n",
       "      <td>3</td>\n",
       "      <td>1.210000e-10</td>\n",
       "      <td>8.230000e-12</td>\n",
       "      <td>9.020000e-09</td>\n",
       "      <td>1</td>\n",
       "      <td>0</td>\n",
       "      <td>0</td>\n",
       "      <td>0</td>\n",
       "      <td>0</td>\n",
       "      <td>0</td>\n",
       "      <td>0</td>\n",
       "      <td>0</td>\n",
       "      <td>0</td>\n",
       "      <td>2</td>\n",
       "      <td>12of12inf</td>\n",
       "    </tr>\n",
       "    <tr>\n",
       "      <th>2</th>\n",
       "      <td>ABACI</td>\n",
       "      <td>3</td>\n",
       "      <td>9</td>\n",
       "      <td>3.640000e-10</td>\n",
       "      <td>1.110000e-10</td>\n",
       "      <td>5.160000e-08</td>\n",
       "      <td>7</td>\n",
       "      <td>0</td>\n",
       "      <td>0</td>\n",
       "      <td>0</td>\n",
       "      <td>0</td>\n",
       "      <td>0</td>\n",
       "      <td>0</td>\n",
       "      <td>0</td>\n",
       "      <td>0</td>\n",
       "      <td>3</td>\n",
       "      <td>12of12inf</td>\n",
       "    </tr>\n",
       "    <tr>\n",
       "      <th>3</th>\n",
       "      <td>ABACK</td>\n",
       "      <td>4</td>\n",
       "      <td>29</td>\n",
       "      <td>1.170000e-09</td>\n",
       "      <td>6.330000e-10</td>\n",
       "      <td>1.560000e-07</td>\n",
       "      <td>28</td>\n",
       "      <td>0</td>\n",
       "      <td>0</td>\n",
       "      <td>0</td>\n",
       "      <td>0</td>\n",
       "      <td>0</td>\n",
       "      <td>0</td>\n",
       "      <td>0</td>\n",
       "      <td>0</td>\n",
       "      <td>2</td>\n",
       "      <td>12of12inf</td>\n",
       "    </tr>\n",
       "    <tr>\n",
       "      <th>4</th>\n",
       "      <td>ABACUS</td>\n",
       "      <td>5</td>\n",
       "      <td>9349</td>\n",
       "      <td>3.790000e-07</td>\n",
       "      <td>3.830000e-07</td>\n",
       "      <td>3.460000e-05</td>\n",
       "      <td>1239</td>\n",
       "      <td>0</td>\n",
       "      <td>0</td>\n",
       "      <td>0</td>\n",
       "      <td>0</td>\n",
       "      <td>0</td>\n",
       "      <td>0</td>\n",
       "      <td>0</td>\n",
       "      <td>0</td>\n",
       "      <td>3</td>\n",
       "      <td>12of12inf</td>\n",
       "    </tr>\n",
       "  </tbody>\n",
       "</table>\n",
       "</div>"
      ],
      "text/plain": [
       "        Word  Seq_num  Word Count  Word Proportion  Average Proportion  \\\n",
       "0   AARDVARK        1         664     2.690000e-08        1.860000e-08   \n",
       "1  AARDVARKS        2           3     1.210000e-10        8.230000e-12   \n",
       "2      ABACI        3           9     3.640000e-10        1.110000e-10   \n",
       "3      ABACK        4          29     1.170000e-09        6.330000e-10   \n",
       "4     ABACUS        5        9349     3.790000e-07        3.830000e-07   \n",
       "\n",
       "        Std Dev  Doc Count  Negative  Positive  Uncertainty  Litigious  \\\n",
       "0  4.050000e-06        131         0         0            0          0   \n",
       "1  9.020000e-09          1         0         0            0          0   \n",
       "2  5.160000e-08          7         0         0            0          0   \n",
       "3  1.560000e-07         28         0         0            0          0   \n",
       "4  3.460000e-05       1239         0         0            0          0   \n",
       "\n",
       "   Strong_Modal  Weak_Modal  Constraining  Complexity  Syllables     Source  \n",
       "0             0           0             0           0          2  12of12inf  \n",
       "1             0           0             0           0          2  12of12inf  \n",
       "2             0           0             0           0          3  12of12inf  \n",
       "3             0           0             0           0          2  12of12inf  \n",
       "4             0           0             0           0          3  12of12inf  "
      ]
     },
     "execution_count": 30,
     "metadata": {},
     "output_type": "execute_result"
    }
   ],
   "source": [
    "# Define the path to the Loughran-McDonald Master Dictionary\n",
    "loghran_mcdonald_lexicon_path = './assets/Loughran-McDonald_MasterDictionary_1993-2023.csv'\n",
    "\n",
    "# Load the CSV file into a DataFrame\n",
    "loghran_mcdonald_df = pd.read_csv(loghran_mcdonald_lexicon_path)\n",
    "\n",
    "# Display the first few rows of the DataFrame to inspect the contents\n",
    "loghran_mcdonald_df.head()"
   ]
  },
  {
   "cell_type": "code",
   "execution_count": 31,
   "id": "c140ca39-9fd4-4d5d-80a6-c5815ca680f2",
   "metadata": {},
   "outputs": [
    {
     "data": {
      "text/plain": [
       "array([    0,  2009, -2020,  2012,  2011])"
      ]
     },
     "execution_count": 31,
     "metadata": {},
     "output_type": "execute_result"
    }
   ],
   "source": [
    "loghran_mcdonald_df['Positive'].unique()"
   ]
  },
  {
   "cell_type": "code",
   "execution_count": 32,
   "id": "b139e688-f3e3-4592-9eb2-dbcb5f120af5",
   "metadata": {},
   "outputs": [
    {
     "data": {
      "text/html": [
       "<div>\n",
       "<style scoped>\n",
       "    .dataframe tbody tr th:only-of-type {\n",
       "        vertical-align: middle;\n",
       "    }\n",
       "\n",
       "    .dataframe tbody tr th {\n",
       "        vertical-align: top;\n",
       "    }\n",
       "\n",
       "    .dataframe thead th {\n",
       "        text-align: right;\n",
       "    }\n",
       "</style>\n",
       "<table border=\"1\" class=\"dataframe\">\n",
       "  <thead>\n",
       "    <tr style=\"text-align: right;\">\n",
       "      <th></th>\n",
       "      <th>positive</th>\n",
       "      <th>negative</th>\n",
       "      <th>uncertainty</th>\n",
       "    </tr>\n",
       "  </thead>\n",
       "  <tbody>\n",
       "    <tr>\n",
       "      <th>0</th>\n",
       "      <td>26</td>\n",
       "      <td>13</td>\n",
       "      <td>0</td>\n",
       "    </tr>\n",
       "    <tr>\n",
       "      <th>1</th>\n",
       "      <td>7</td>\n",
       "      <td>1</td>\n",
       "      <td>0</td>\n",
       "    </tr>\n",
       "    <tr>\n",
       "      <th>2</th>\n",
       "      <td>10</td>\n",
       "      <td>1</td>\n",
       "      <td>0</td>\n",
       "    </tr>\n",
       "    <tr>\n",
       "      <th>3</th>\n",
       "      <td>4</td>\n",
       "      <td>1</td>\n",
       "      <td>0</td>\n",
       "    </tr>\n",
       "    <tr>\n",
       "      <th>4</th>\n",
       "      <td>6</td>\n",
       "      <td>2</td>\n",
       "      <td>0</td>\n",
       "    </tr>\n",
       "  </tbody>\n",
       "</table>\n",
       "</div>"
      ],
      "text/plain": [
       "   positive  negative  uncertainty\n",
       "0        26        13            0\n",
       "1         7         1            0\n",
       "2        10         1            0\n",
       "3         4         1            0\n",
       "4         6         2            0"
      ]
     },
     "execution_count": 32,
     "metadata": {},
     "output_type": "execute_result"
    }
   ],
   "source": [
    "def load_loughran_mcdonald_lexicon(path):\n",
    "    \"\"\"\n",
    "    Load the Loughran-McDonald lexicon from a CSV file.\n",
    "\n",
    "    Args:\n",
    "        path (str): The path to the Loughran-McDonald Master Dictionary CSV file.\n",
    "\n",
    "    Returns:\n",
    "        tuple: A set of positive words and a set of negative words extracted from the lexicon.\n",
    "    \"\"\"\n",
    "    # Read the lexicon CSV file into a DataFrame\n",
    "    lexicon_df = pd.read_csv(path)\n",
    "    # Extract positive words into a set\n",
    "    positive_words = set(lexicon_df[lexicon_df['Positive'] > 0]['Word'].str.lower())\n",
    "    # Extract negative words into a set\n",
    "    negative_words = set(lexicon_df[lexicon_df['Negative'] > 0]['Word'].str.lower())\n",
    "    return positive_words, negative_words\n",
    "\n",
    "# Load positive and negative words from the lexicon\n",
    "positive_words, negative_words = load_loughran_mcdonald_lexicon(loughran_mcdonald_lexicon_path)\n",
    "\n",
    "def get_domain_sentiment(text, positive_words, negative_words, uncertainty_words):\n",
    "    \"\"\"\n",
    "    Calculate the sentiment of a given text using the Loughran-McDonald lexicon.\n",
    "\n",
    "    Args:\n",
    "        text (str): The input text to analyze.\n",
    "        positive_words (set): A set of words classified as positive.\n",
    "        negative_words (set): A set of words classified as negative.\n",
    "        uncertainty_words (set): A set of words classified as uncertainty.\n",
    "\n",
    "    Returns:\n",
    "        dict: A dictionary containing counts of positive, negative, and uncertainty words in the text.\n",
    "    \"\"\"\n",
    "    # Tokenize the text and convert to lowercase\n",
    "    tokens = nltk.word_tokenize(text.lower())\n",
    "    # Count occurrences of positive words\n",
    "    pos_count = len([word for word in tokens if word in positive_words])\n",
    "    # Count occurrences of negative words\n",
    "    neg_count = len([word for word in tokens if word in negative_words])\n",
    "    # Count occurrences of uncertainty words\n",
    "    unc_count = len([word for word in tokens if word in uncertainty_words])\n",
    "    return {'positive': pos_count, 'negative': neg_count, 'uncertainty': unc_count}\n",
    "\n",
    "# Assuming uncertainty_words is defined somewhere in your code\n",
    "uncertainty_words = set()  # Replace this with the actual set of uncertainty words if available\n",
    "\n",
    "# Create a DataFrame with sentiment counts from the cleaned content of articles\n",
    "loughran_mcdonald_sentiments_df = pd.DataFrame(\n",
    "    df['clean_content_context'].apply(lambda text: get_domain_sentiment(text, positive_words, negative_words, uncertainty_words)).tolist()\n",
    ")\n",
    "\n",
    "# Display the first few rows of the resulting DataFrame\n",
    "loughran_mcdonald_sentiments_df.head()"
   ]
  },
  {
   "cell_type": "markdown",
   "id": "b18ecf72-97e5-464c-b755-69e125b9b612",
   "metadata": {},
   "source": [
    "### Text Summarization"
   ]
  },
  {
   "cell_type": "markdown",
   "id": "e76538ee-b5b6-4cb4-8c28-28254b1e68fb",
   "metadata": {},
   "source": [
    "In this section, we employ the BART (Bidirectional and Auto-Regressive Transformers) model for summarizing articles. Summarization is an essential technique for condensing lengthy texts into shorter, more digestible formats while retaining the main ideas. BART, a transformer-based model, has shown exceptional performance in generating high-quality summaries."
   ]
  },
  {
   "cell_type": "markdown",
   "id": "519dd933-3a11-4023-b5b6-94a1bafcd781",
   "metadata": {},
   "source": [
    "#### BART Summarization Pipeline"
   ]
  },
  {
   "cell_type": "markdown",
   "id": "d518d574-9ec7-4fe5-9e1d-ad858f8cbdbb",
   "metadata": {},
   "source": [
    "First, we initialize the summarization pipeline using the BART model. This setup allows us to efficiently summarize large amounts of text by processing them in chunks, making it suitable for longer articles."
   ]
  },
  {
   "cell_type": "code",
   "execution_count": null,
   "id": "78d98754-18a9-4ce5-b5fe-724d1a6a221d",
   "metadata": {},
   "outputs": [],
   "source": [
    "from transformers import pipeline\n",
    "\n",
    "# Create the summarization pipeline outside the function for reusability and efficiency\n",
    "try:\n",
    "    summarizer = pipeline(\"summarization\", model=\"facebook/bart-large-cnn\", max_length=80)\n",
    "except Exception as e:\n",
    "    print(f\"Error loading BART model: {e}\")\n",
    "    summarizer = None"
   ]
  },
  {
   "cell_type": "markdown",
   "id": "122e5232-e198-4616-a7fb-7126d1e4087e",
   "metadata": {},
   "source": [
    "#### Summarization Function"
   ]
  },
  {
   "cell_type": "markdown",
   "id": "b5116de0-cb61-4a23-85a8-0b91a10073b8",
   "metadata": {},
   "source": [
    "We define a function, get_summary, which will take a text input and return its summarized version. The function handles text chunking to fit the model's input size requirements and combines the summaries of each chunk."
   ]
  },
  {
   "cell_type": "code",
   "execution_count": null,
   "id": "47d39eb2-23ae-47c3-9eec-9afad3ba184b",
   "metadata": {},
   "outputs": [],
   "source": [
    "\n",
    "def get_summary(text):\n",
    "    try:\n",
    "        # Ensure the summarizer is loaded\n",
    "        if summarizer is not None:\n",
    "            # Split the text into words\n",
    "            words = text.split()\n",
    "            \n",
    "            # Define the word limit for each chunk\n",
    "            word_limit = 512\n",
    "\n",
    "            # Break the text into chunks of up to 512 words each\n",
    "            chunks = [' '.join(words[i:i + word_limit]) for i in range(0, len(words), word_limit)]\n",
    "            \n",
    "            # Summarize each chunk and combine the results\n",
    "            summaries = summarizer(chunks)\n",
    "            # Join the individual summaries into a single string\n",
    "            combined_summary = ' '.join(chunk['summary_text'] for chunk in summaries)\n",
    "            print('done...')\n",
    "            return combined_summary\n",
    "        else:\n",
    "            print(\"Summarizer is not loaded properly.\")\n",
    "            return None\n",
    "    except Exception as e:\n",
    "        # Print an error message if there's an issue during summarization\n",
    "        print(f\"Error summarizing text: {e}\")\n",
    "        return None\n",
    "\n",
    "# Apply the summarization function to the 'Text' column of the DataFrame\n",
    "summaries = df['Text'].apply(get_summary)"
   ]
  },
  {
   "cell_type": "code",
   "execution_count": null,
   "id": "ee0964bd-781f-4550-bb0c-56cbd09ab8c7",
   "metadata": {},
   "outputs": [],
   "source": [
    "# Create a DataFrame from the summaries\n",
    "bart_summary_df = pd.DataFrame(summaries, columns=['Bart_summary'])"
   ]
  },
  {
   "cell_type": "code",
   "execution_count": 17,
   "id": "590a037b-0cd7-4067-b46b-840b24eacd8e",
   "metadata": {},
   "outputs": [
    {
     "data": {
      "text/html": [
       "<div>\n",
       "<style scoped>\n",
       "    .dataframe tbody tr th:only-of-type {\n",
       "        vertical-align: middle;\n",
       "    }\n",
       "\n",
       "    .dataframe tbody tr th {\n",
       "        vertical-align: top;\n",
       "    }\n",
       "\n",
       "    .dataframe thead th {\n",
       "        text-align: right;\n",
       "    }\n",
       "</style>\n",
       "<table border=\"1\" class=\"dataframe\">\n",
       "  <thead>\n",
       "    <tr style=\"text-align: right;\">\n",
       "      <th></th>\n",
       "      <th>Summary</th>\n",
       "    </tr>\n",
       "  </thead>\n",
       "  <tbody>\n",
       "    <tr>\n",
       "      <th>0</th>\n",
       "      <td>In 2023, the Nasdaq Composite rose 43%, fueled...</td>\n",
       "    </tr>\n",
       "    <tr>\n",
       "      <th>1</th>\n",
       "      <td>Phantom Wallet has recently climbed to the thi...</td>\n",
       "    </tr>\n",
       "    <tr>\n",
       "      <th>2</th>\n",
       "      <td>Apple supplier Foxconn on Wednesday surpassed ...</td>\n",
       "    </tr>\n",
       "    <tr>\n",
       "      <th>3</th>\n",
       "      <td>Fool.com contributor Parkev Tatevosian highlig...</td>\n",
       "    </tr>\n",
       "    <tr>\n",
       "      <th>4</th>\n",
       "      <td>Steve Ballmer passes Bill Gates on Monday to b...</td>\n",
       "    </tr>\n",
       "  </tbody>\n",
       "</table>\n",
       "</div>"
      ],
      "text/plain": [
       "                                             Summary\n",
       "0  In 2023, the Nasdaq Composite rose 43%, fueled...\n",
       "1  Phantom Wallet has recently climbed to the thi...\n",
       "2  Apple supplier Foxconn on Wednesday surpassed ...\n",
       "3  Fool.com contributor Parkev Tatevosian highlig...\n",
       "4  Steve Ballmer passes Bill Gates on Monday to b..."
      ]
     },
     "execution_count": 17,
     "metadata": {},
     "output_type": "execute_result"
    }
   ],
   "source": [
    "bart_summary_df.head()"
   ]
  },
  {
   "cell_type": "markdown",
   "id": "016064b8-302b-41d6-a60a-97ae3450d1fb",
   "metadata": {},
   "source": [
    "# Named Entity Recognition (NER)"
   ]
  },
  {
   "cell_type": "markdown",
   "id": "f211369b-6345-4746-816c-777c476c2734",
   "metadata": {},
   "source": [
    "### Entity and Emotion Extraction"
   ]
  },
  {
   "cell_type": "markdown",
   "id": "d8a5582f-044d-41cc-9688-841ca8ee1a9c",
   "metadata": {},
   "source": [
    "In this section, we utilize SpaCy, a powerful library for Natural Language Processing (NLP), to extract named entities from the text. Named Entity Recognition helps identify and classify key entities within a text, such as people, organizations, dates, and more, facilitating better analysis of the content."
   ]
  },
  {
   "cell_type": "markdown",
   "id": "69b87539-4e5e-40ac-8116-dc0b750906a1",
   "metadata": {},
   "source": [
    "### Installing and Loading SpaCy\n"
   ]
  },
  {
   "cell_type": "markdown",
   "id": "ba610cf1-26dd-44f1-b823-5932bca97171",
   "metadata": {},
   "source": [
    "We start by installing SpaCy and downloading the English language model required for processing text."
   ]
  },
  {
   "cell_type": "code",
   "execution_count": null,
   "id": "3d947990-54eb-42e7-b1e5-c926b8dc4f8d",
   "metadata": {},
   "outputs": [],
   "source": [
    "! pip install spacy\n",
    "! python -m spacy download en_core_web_sm"
   ]
  },
  {
   "cell_type": "markdown",
   "id": "1c54e3cb-7f76-49e2-bd09-aeb5830149bd",
   "metadata": {},
   "source": [
    "### Entity Extraction Function"
   ]
  },
  {
   "cell_type": "markdown",
   "id": "e517d101-1a0b-468c-9061-e3baeb2b133f",
   "metadata": {},
   "source": [
    "Next, we define a function, get_entities, which takes a piece of text and extracts named entities using the loaded SpaCy model."
   ]
  },
  {
   "cell_type": "code",
   "execution_count": 170,
   "id": "7f030d0d-fb53-4a6a-aa82-4f76cdd6afd9",
   "metadata": {},
   "outputs": [
    {
     "data": {
      "text/plain": [
       "0    [(The new year, DATE), (the next 12 months, DA...\n",
       "1    [(Phantom Wallet, PERSON), (third, ORDINAL), (...\n",
       "2    [(Yimou Lee, PERSON), (Faith Hung, PERSON), (R...\n",
       "3    [(Parkev Tatevosian, PERSON), (one, CARDINAL),...\n",
       "4    [(Bloomberg, ORG), (Steve Ballmer, PERSON), (B...\n",
       "Name: Text, dtype: object"
      ]
     },
     "execution_count": 170,
     "metadata": {},
     "output_type": "execute_result"
    }
   ],
   "source": [
    "import spacy\n",
    "\n",
    "# Load the SpaCy model\n",
    "nlp = spacy.load('en_core_web_sm')\n",
    "\n",
    "def get_entities(text):\n",
    "    doc = nlp(text)\n",
    "    # Extract entities as a list of tuples (entity text, entity label)\n",
    "    return [(ent.text, ent.label_) for ent in doc.ents]\n",
    "\n",
    "# Apply the function to extract entities from the Text column\n",
    "entities = df['Text'].apply(get_entities)\n",
    "\n",
    "# Display the extracted entities\n",
    "entities.head()"
   ]
  },
  {
   "cell_type": "code",
   "execution_count": 171,
   "id": "cdb9cbc3-5e19-45be-983f-c9ae2e6dae19",
   "metadata": {},
   "outputs": [
    {
     "name": "stdout",
     "output_type": "stream",
     "text": [
      "(10932, 1)\n"
     ]
    },
    {
     "data": {
      "text/html": [
       "<div>\n",
       "<style scoped>\n",
       "    .dataframe tbody tr th:only-of-type {\n",
       "        vertical-align: middle;\n",
       "    }\n",
       "\n",
       "    .dataframe tbody tr th {\n",
       "        vertical-align: top;\n",
       "    }\n",
       "\n",
       "    .dataframe thead th {\n",
       "        text-align: right;\n",
       "    }\n",
       "</style>\n",
       "<table border=\"1\" class=\"dataframe\">\n",
       "  <thead>\n",
       "    <tr style=\"text-align: right;\">\n",
       "      <th></th>\n",
       "      <th>Entities</th>\n",
       "    </tr>\n",
       "  </thead>\n",
       "  <tbody>\n",
       "    <tr>\n",
       "      <th>0</th>\n",
       "      <td>[(The new year, DATE), (the next 12 months, DA...</td>\n",
       "    </tr>\n",
       "    <tr>\n",
       "      <th>1</th>\n",
       "      <td>[(Phantom Wallet, PERSON), (third, ORDINAL), (...</td>\n",
       "    </tr>\n",
       "    <tr>\n",
       "      <th>2</th>\n",
       "      <td>[(Yimou Lee, PERSON), (Faith Hung, PERSON), (R...</td>\n",
       "    </tr>\n",
       "    <tr>\n",
       "      <th>3</th>\n",
       "      <td>[(Parkev Tatevosian, PERSON), (one, CARDINAL),...</td>\n",
       "    </tr>\n",
       "    <tr>\n",
       "      <th>4</th>\n",
       "      <td>[(Bloomberg, ORG), (Steve Ballmer, PERSON), (B...</td>\n",
       "    </tr>\n",
       "  </tbody>\n",
       "</table>\n",
       "</div>"
      ],
      "text/plain": [
       "                                            Entities\n",
       "0  [(The new year, DATE), (the next 12 months, DA...\n",
       "1  [(Phantom Wallet, PERSON), (third, ORDINAL), (...\n",
       "2  [(Yimou Lee, PERSON), (Faith Hung, PERSON), (R...\n",
       "3  [(Parkev Tatevosian, PERSON), (one, CARDINAL),...\n",
       "4  [(Bloomberg, ORG), (Steve Ballmer, PERSON), (B..."
      ]
     },
     "execution_count": 171,
     "metadata": {},
     "output_type": "execute_result"
    }
   ],
   "source": [
    "    # Create a DataFrame from the extracted entities\n",
    "    entities_df = pd.DataFrame(entities)\n",
    "    entities_df.rename({'Text': 'Entities'}, axis=1, inplace=True)\n",
    "    print(entities_df.shape)\n",
    "    # Display the first few rows of the DataFrame\n",
    "    entities_df.head()\n",
    "    # entities.explode('Entity')"
   ]
  },
  {
   "cell_type": "markdown",
   "id": "8acb4d0d-990a-4e0b-9b19-e1ec43ca36c2",
   "metadata": {},
   "source": [
    "### Exploding the Entities DataFrame & Structuring the Exploded Entities\n",
    "To facilitate further analysis, we explode the extracted entities into a more structured format.\n",
    "Finally, we structure the exploded DataFrame to make it easier to work with the extracted entities."
   ]
  },
  {
   "cell_type": "code",
   "execution_count": 215,
   "id": "56a69b19-abdf-4e18-ae25-b4c6d0a9d118",
   "metadata": {},
   "outputs": [
    {
     "data": {
      "text/html": [
       "<div>\n",
       "<style scoped>\n",
       "    .dataframe tbody tr th:only-of-type {\n",
       "        vertical-align: middle;\n",
       "    }\n",
       "\n",
       "    .dataframe tbody tr th {\n",
       "        vertical-align: top;\n",
       "    }\n",
       "\n",
       "    .dataframe thead th {\n",
       "        text-align: right;\n",
       "    }\n",
       "</style>\n",
       "<table border=\"1\" class=\"dataframe\">\n",
       "  <thead>\n",
       "    <tr style=\"text-align: right;\">\n",
       "      <th></th>\n",
       "      <th>Original_index</th>\n",
       "      <th>Entity_name</th>\n",
       "      <th>Entity_type</th>\n",
       "    </tr>\n",
       "  </thead>\n",
       "  <tbody>\n",
       "    <tr>\n",
       "      <th>0</th>\n",
       "      <td>0</td>\n",
       "      <td>The new year</td>\n",
       "      <td>DATE</td>\n",
       "    </tr>\n",
       "    <tr>\n",
       "      <th>1</th>\n",
       "      <td>0</td>\n",
       "      <td>the next 12 months</td>\n",
       "      <td>DATE</td>\n",
       "    </tr>\n",
       "    <tr>\n",
       "      <th>2</th>\n",
       "      <td>0</td>\n",
       "      <td>2023</td>\n",
       "      <td>DATE</td>\n",
       "    </tr>\n",
       "    <tr>\n",
       "      <th>3</th>\n",
       "      <td>0</td>\n",
       "      <td>a year</td>\n",
       "      <td>DATE</td>\n",
       "    </tr>\n",
       "    <tr>\n",
       "      <th>4</th>\n",
       "      <td>0</td>\n",
       "      <td>33%</td>\n",
       "      <td>PERCENT</td>\n",
       "    </tr>\n",
       "  </tbody>\n",
       "</table>\n",
       "</div>"
      ],
      "text/plain": [
       "   Original_index         Entity_name Entity_type\n",
       "0               0        The new year        DATE\n",
       "1               0  the next 12 months        DATE\n",
       "2               0                2023        DATE\n",
       "3               0              a year        DATE\n",
       "4               0                 33%     PERCENT"
      ]
     },
     "execution_count": 215,
     "metadata": {},
     "output_type": "execute_result"
    }
   ],
   "source": [
    "entities_exploded = entities_df.explode('Entities')\n",
    "entities_exploded.reset_index(inplace=True)\n",
    "entities_exploded.rename({'index': 'Original_index'}, axis=1, inplace=True)\n",
    "# entities_exploded['Entity'] = entities_exploded['Entity']\n",
    "\n",
    "\n",
    "entities_exploded[['Entity_name', 'Entity_type']] = pd.DataFrame(entities_exploded['Entities'].tolist(), index=entities_exploded.index)\n",
    "entities_exploded.drop('Entities', axis=1, inplace=True)\n",
    "entities_exploded.head()"
   ]
  },
  {
   "cell_type": "code",
   "execution_count": 219,
   "id": "0935b0f6-2167-4b7a-92b9-c845bd6b08d9",
   "metadata": {},
   "outputs": [
    {
     "data": {
      "text/plain": [
       "array(['DATE', 'PERCENT', 'ORG', 'CARDINAL', 'MONEY', 'NORP', 'GPE',\n",
       "       'ORDINAL', 'PERSON', 'PRODUCT', 'FAC', 'TIME', 'WORK_OF_ART',\n",
       "       'LOC', 'QUANTITY', 'LAW', 'EVENT', 'LANGUAGE'], dtype=object)"
      ]
     },
     "execution_count": 219,
     "metadata": {},
     "output_type": "execute_result"
    }
   ],
   "source": [
    "entities_exploded['Entity_type'].unique()"
   ]
  },
  {
   "cell_type": "markdown",
   "id": "b37dc1f5-74a4-4fab-8ea6-ccd4240baa59",
   "metadata": {},
   "source": [
    "# Emotion Extraction and Aggregation from Text Data"
   ]
  },
  {
   "cell_type": "markdown",
   "id": "13cd6c65-6a8a-48dd-934b-06ab54683062",
   "metadata": {},
   "source": [
    "In this section, we perform a comprehensive extraction and aggregation of emotions from the articles. Using NRCLex, a library specialized in emotion detection, we assess emotional content sentence by sentence and apply various aggregation methods to gain deeper insights into each article's overall emotional tone.\n",
    "\n",
    "Steps Overview:\n",
    "1. Extract Emotion Scores for Each Sentence: Initially, we use NRCLex to calculate emotion scores at the sentence level, giving a fine-grained view of the emotions expressed throughout each article.\n",
    "2. Aggregate Emotions by Article:\n",
    "- Sum: Totals emotion scores across sentences, highlighting cumulative emotional intensity.\n",
    "- Mean: Calculates the average emotion score, capturing balanced intensity across sentences.\n",
    "- Max: Takes the highest emotion score for each type within an article, emphasizing peak emotions.\n",
    "- Weighted Mean: Uses sentence-level intensity as a weight, giving prominence to strongly emotional sentences.\n",
    "\n",
    "The output of this process provides multiple perspectives on each article’s emotional content, enabling a nuanced analysis of the emotional undertones in news data."
   ]
  },
  {
   "cell_type": "markdown",
   "id": "21e571cd-4021-4467-91bd-45550fa47917",
   "metadata": {},
   "source": [
    "### Emotion Extraction by Sentence"
   ]
  },
  {
   "cell_type": "markdown",
   "id": "b49951a8-101a-4f7a-a8bb-93e1be67b04f",
   "metadata": {},
   "source": [
    "In this section, we use the NRCLex library to extract emotions for each sentence in our articles. The aim is to gain a fine-grained understanding of the emotions expressed sentence by sentence, which allows for a more detailed analysis when we aggregate these emotions later.\n",
    "\n",
    "- Define Emotion Extraction Function: First, we define get_emotions_list, a function that calculates emotion scores for each sentence using NRCLex.\n",
    "- Apply to Sentences: We apply this function to the text_sentences column in the DataFrame, where each entry is a list of sentences for an article.\n",
    "- Convert to DataFrame: We then store the results in a new DataFrame (emotions_df), where each row represents the emotions for the sentences in one article."
   ]
  },
  {
   "cell_type": "code",
   "execution_count": 6,
   "id": "9c2065f8-9afb-406c-97a5-defeb9c51a8d",
   "metadata": {},
   "outputs": [
    {
     "data": {
      "text/html": [
       "<div>\n",
       "<style scoped>\n",
       "    .dataframe tbody tr th:only-of-type {\n",
       "        vertical-align: middle;\n",
       "    }\n",
       "\n",
       "    .dataframe tbody tr th {\n",
       "        vertical-align: top;\n",
       "    }\n",
       "\n",
       "    .dataframe thead th {\n",
       "        text-align: right;\n",
       "    }\n",
       "</style>\n",
       "<table border=\"1\" class=\"dataframe\">\n",
       "  <thead>\n",
       "    <tr style=\"text-align: right;\">\n",
       "      <th></th>\n",
       "      <th>text_sentences</th>\n",
       "    </tr>\n",
       "  </thead>\n",
       "  <tbody>\n",
       "    <tr>\n",
       "      <th>0</th>\n",
       "      <td>[{}, {'anticipation': 2}, {}, {'fear': 2, 'neg...</td>\n",
       "    </tr>\n",
       "    <tr>\n",
       "      <th>1</th>\n",
       "      <td>[{'positive': 1}, {'positive': 1}, {}, {'posit...</td>\n",
       "    </tr>\n",
       "    <tr>\n",
       "      <th>2</th>\n",
       "      <td>[{'anger': 1, 'negative': 1, 'anticipation': 2...</td>\n",
       "    </tr>\n",
       "    <tr>\n",
       "      <th>3</th>\n",
       "      <td>[{'positive': 2, 'trust': 2, 'fear': 1, 'joy':...</td>\n",
       "    </tr>\n",
       "    <tr>\n",
       "      <th>4</th>\n",
       "      <td>[{'anticipation': 1, 'positive': 1, 'trust': 1...</td>\n",
       "    </tr>\n",
       "  </tbody>\n",
       "</table>\n",
       "</div>"
      ],
      "text/plain": [
       "                                      text_sentences\n",
       "0  [{}, {'anticipation': 2}, {}, {'fear': 2, 'neg...\n",
       "1  [{'positive': 1}, {'positive': 1}, {}, {'posit...\n",
       "2  [{'anger': 1, 'negative': 1, 'anticipation': 2...\n",
       "3  [{'positive': 2, 'trust': 2, 'fear': 1, 'joy':...\n",
       "4  [{'anticipation': 1, 'positive': 1, 'trust': 1..."
      ]
     },
     "execution_count": 6,
     "metadata": {},
     "output_type": "execute_result"
    }
   ],
   "source": [
    "# Define a function to extract emotions for each sentence\n",
    "def get_emotions_list(text_sentences):\n",
    "    return [NRCLex(sentence).raw_emotion_scores for sentence in text_sentences]\n",
    "\n",
    "# Apply the function to the 'text_sentences' column and create a new DataFrame\n",
    "emotions_list_by_sentence = df['text_sentences'].apply(get_emotions_list)\n",
    "\n",
    "# Convert the list of emotion scores into a DataFrame\n",
    "emotions_df = pd.DataFrame(emotions_list_by_sentence)\n",
    "\n",
    "# Display the first few rows of the emotions DataFrame\n",
    "emotions_df.head()"
   ]
  },
  {
   "cell_type": "markdown",
   "id": "1f7abc96-cbad-4e67-b863-ebde82c2ddff",
   "metadata": {},
   "source": [
    "### Summing Emotion Scores"
   ]
  },
  {
   "cell_type": "markdown",
   "id": "68197796-1574-437c-b7e2-6bc1e89d4f59",
   "metadata": {},
   "source": [
    "Here, we aggregate emotions by summing the scores for each article to capture the total emotional intensity."
   ]
  },
  {
   "cell_type": "code",
   "execution_count": null,
   "id": "83aa4298-881f-4d96-a6e2-cbb6fbee3533",
   "metadata": {},
   "outputs": [],
   "source": [
    "from collections import Counter\n",
    "\n",
    "def aggregate_emotions_sum(emotions_list):\n",
    "    total_emotions = Counter()\n",
    "    for sentence_emotions in emotions_list:\n",
    "        total_emotions.update(sentence_emotions)\n",
    "    return dict(total_emotions)\n",
    "\n",
    "# Apply the aggregation function to the emotions list and create a DataFrame\n",
    "emotion_agg_sum_df = pd.DataFrame(emotions_list_by_sentence.apply(aggregate_emotions_sum).tolist()).fillna(0)\n",
    "\n",
    "# Display the first few rows of the aggregated emotions DataFrame\n",
    "emotion_agg_sum_df.head()"
   ]
  },
  {
   "cell_type": "markdown",
   "id": "c7ba2497-4764-4170-8a1d-96c9d4f25eff",
   "metadata": {},
   "source": [
    "### Averaging Emotion Scores"
   ]
  },
  {
   "cell_type": "markdown",
   "id": "bf21a847-ec44-4926-9ee4-ab5201a51ee9",
   "metadata": {},
   "source": [
    "Calculating the mean score for each emotion gives insight into the average emotional intensity across an article."
   ]
  },
  {
   "cell_type": "code",
   "execution_count": null,
   "id": "d4953a8d-f559-4ef9-817b-0cebacb3e476",
   "metadata": {},
   "outputs": [],
   "source": [
    "def aggregate_emotions_mean(emotions_list):\n",
    "    total_emotions = Counter()\n",
    "    sentence_count = 0\n",
    "    for sentence_emotions in emotions_list:\n",
    "        if sentence_emotions:  # Only consider sentences with emotions\n",
    "            total_emotions.update(sentence_emotions)\n",
    "            sentence_count += 1\n",
    "            \n",
    "    if sentence_count == 0:  # Handle case with no emotion scores\n",
    "        return {}\n",
    "    \n",
    "    # Calculate mean for each emotion\n",
    "    return {k: v / sentence_count for k, v in total_emotions.items()}\n",
    "\n",
    "# Apply the aggregation function to the emotions list and create a DataFrame\n",
    "emotion_agg_mean_df = pd.DataFrame(emotions_list_by_sentence.apply(aggregate_emotions_mean).tolist()).fillna(0)\n",
    "\n",
    "# Display the first few rows of the aggregated emotions mean DataFrame\n",
    "emotion_agg_mean_df.head()"
   ]
  },
  {
   "cell_type": "markdown",
   "id": "05d59d56-5e18-4ebb-b68d-aa0397c19405",
   "metadata": {},
   "source": [
    "### Maximum Emotion Scores by Article"
   ]
  },
  {
   "cell_type": "markdown",
   "id": "4c9b215f-b6df-4e7c-a3c1-832a1e31628b",
   "metadata": {},
   "source": [
    "Finding the highest emotion score per article shows the peak intensity for each emotion."
   ]
  },
  {
   "cell_type": "code",
   "execution_count": null,
   "id": "e51c340f-9259-4b57-ba9d-b664cf281bde",
   "metadata": {},
   "outputs": [],
   "source": [
    "def aggregate_emotions_max(emotions_list):\n",
    "    max_emotions = Counter()\n",
    "    for sentence_emotions in emotions_list:\n",
    "        for emotion, score in sentence_emotions.items():\n",
    "            if max_emotions[emotion] < score:\n",
    "                max_emotions[emotion] = score\n",
    "    return dict(max_emotions)\n",
    "\n",
    "# Apply the aggregation function to the emotions list and create a DataFrame\n",
    "emotion_agg_max_df = pd.DataFrame(emotions_list_by_sentence.apply(aggregate_emotions_max).tolist()).fillna(0)\n",
    "\n",
    "# Display the resulting DataFrame\n",
    "emotion_agg_max_df.head()"
   ]
  },
  {
   "cell_type": "markdown",
   "id": "6551b325-315e-410c-a678-bed35dbf5aac",
   "metadata": {},
   "source": [
    "### Weighted Mean Emotion Scores by Article"
   ]
  },
  {
   "cell_type": "markdown",
   "id": "21579afc-833d-4fb4-83ba-0681aed4a491",
   "metadata": {},
   "source": [
    "A weighted average highlights sentences with higher emotional intensity."
   ]
  },
  {
   "cell_type": "code",
   "execution_count": null,
   "id": "7797fc2c-279d-47ae-9fa6-8bae3298d886",
   "metadata": {},
   "outputs": [],
   "source": [
    "def aggregate_emotions_weighted_mean(emotions_list):\n",
    "    total_emotions = Counter()\n",
    "    total_weight = 0\n",
    "    \n",
    "    for sentence_emotions in emotions_list:\n",
    "        if sentence_emotions:  # Only consider sentences with emotions\n",
    "            weight = sum(sentence_emotions.values())  # Weight by emotional intensity\n",
    "            total_weight += weight\n",
    "            \n",
    "            for emotion, score in sentence_emotions.items():\n",
    "                total_emotions[emotion] += score * weight\n",
    "    \n",
    "    if total_weight == 0:\n",
    "        return {}\n",
    "    \n",
    "    return {k: v / total_weight for k, v in total_emotions.items()}\n",
    "\n",
    "# Apply the aggregation function to the emotions list and create a DataFrame\n",
    "emotion_agg_weighted_mean = pd.DataFrame(emotions_list_by_sentence.apply(aggregate_emotions_weighted_mean).tolist()).fillna(0)\n",
    "\n",
    "# Display the resulting DataFrame\n",
    "emotion_agg_weighted_mean.head()"
   ]
  },
  {
   "cell_type": "markdown",
   "id": "727c100a-8996-4f64-9eba-41ca4dcdb93d",
   "metadata": {},
   "source": [
    "### Merging Processed DataFrames with Feature Prefixes"
   ]
  },
  {
   "cell_type": "markdown",
   "id": "15e7cf22-dac7-4193-bcee-f944d5945f03",
   "metadata": {},
   "source": [
    "In this section, we prepare and merge all feature DataFrames, each prefixed to ensure clear identification of columns by source. This creates a consolidated DataFrame for analysis.\n",
    "\n",
    "1. Prefixing Columns: We add unique prefixes to each DataFrame's columns to distinguish features:\n",
    "- Vader_ for VADER sentiment scores\n",
    "- Agg_Finbert_ for aggregated FinBERT sentiment scores\n",
    "- Loughran_ for Loughran-McDonald sentiment values\n",
    "- Bart_ for BART-generated summaries\n",
    "- Emotion_Sum_, Emotion_Mean_, Emotion_Max_, Emotion_Weighted_Mean_ for various aggregated emotion metrics\n",
    "\n",
    "2. Concatenation: Using pd.concat, we merge these DataFrames along columns, creating a single DataFrame (merged_df) with all features.\n",
    "\n",
    "3. Display Result: Finally, we display the head of merged_df to verify the structure of the consolidated dataset."
   ]
  },
  {
   "cell_type": "code",
   "execution_count": 168,
   "id": "11a7efe8-5886-4b12-8728-d882657b8ce1",
   "metadata": {},
   "outputs": [
    {
     "data": {
      "text/html": [
       "<div>\n",
       "<style scoped>\n",
       "    .dataframe tbody tr th:only-of-type {\n",
       "        vertical-align: middle;\n",
       "    }\n",
       "\n",
       "    .dataframe tbody tr th {\n",
       "        vertical-align: top;\n",
       "    }\n",
       "\n",
       "    .dataframe thead th {\n",
       "        text-align: right;\n",
       "    }\n",
       "</style>\n",
       "<table border=\"1\" class=\"dataframe\">\n",
       "  <thead>\n",
       "    <tr style=\"text-align: right;\">\n",
       "      <th></th>\n",
       "      <th>Date</th>\n",
       "      <th>Title</th>\n",
       "      <th>Author</th>\n",
       "      <th>Text</th>\n",
       "      <th>Month</th>\n",
       "      <th>Week</th>\n",
       "      <th>Company</th>\n",
       "      <th>clean_content_context</th>\n",
       "      <th>text_sentences</th>\n",
       "      <th>Vader_neg</th>\n",
       "      <th>...</th>\n",
       "      <th>Emotion_Weighted_Mean_anticipation</th>\n",
       "      <th>Emotion_Weighted_Mean_fear</th>\n",
       "      <th>Emotion_Weighted_Mean_negative</th>\n",
       "      <th>Emotion_Weighted_Mean_joy</th>\n",
       "      <th>Emotion_Weighted_Mean_positive</th>\n",
       "      <th>Emotion_Weighted_Mean_surprise</th>\n",
       "      <th>Emotion_Weighted_Mean_trust</th>\n",
       "      <th>Emotion_Weighted_Mean_disgust</th>\n",
       "      <th>Emotion_Weighted_Mean_sadness</th>\n",
       "      <th>Emotion_Weighted_Mean_anger</th>\n",
       "    </tr>\n",
       "  </thead>\n",
       "  <tbody>\n",
       "    <tr>\n",
       "      <th>0</th>\n",
       "      <td>2024-01-02 10:05:00+00:00</td>\n",
       "      <td>Better Growth Stock in 2024: Amazon vs. Apple</td>\n",
       "      <td>Dani Cook, The Motley Fool</td>\n",
       "      <td>The new year is here, and there are plenty of ...</td>\n",
       "      <td>2024-01</td>\n",
       "      <td>2024-01-01/2024-01-07</td>\n",
       "      <td>Apple</td>\n",
       "      <td>the new year is here  and there are plenty of ...</td>\n",
       "      <td>[The new year is here, and there are plenty of...</td>\n",
       "      <td>0.033</td>\n",
       "      <td>...</td>\n",
       "      <td>0.880282</td>\n",
       "      <td>0.471831</td>\n",
       "      <td>0.725352</td>\n",
       "      <td>0.683099</td>\n",
       "      <td>1.605634</td>\n",
       "      <td>0.176056</td>\n",
       "      <td>0.894366</td>\n",
       "      <td>0.070423</td>\n",
       "      <td>0.218310</td>\n",
       "      <td>0.260563</td>\n",
       "    </tr>\n",
       "    <tr>\n",
       "      <th>1</th>\n",
       "      <td>2024-05-20 05:29:10+00:00</td>\n",
       "      <td>Solana Wallet Phantom Surges to Third Place on...</td>\n",
       "      <td>Hope C</td>\n",
       "      <td>Phantom Wallet, a popular cryptocurrency walle...</td>\n",
       "      <td>2024-05</td>\n",
       "      <td>2024-05-20/2024-05-26</td>\n",
       "      <td>Apple</td>\n",
       "      <td>phantom wallet  a popular cryptocurrency walle...</td>\n",
       "      <td>[Phantom Wallet, a popular cryptocurrency wall...</td>\n",
       "      <td>0.012</td>\n",
       "      <td>...</td>\n",
       "      <td>0.666667</td>\n",
       "      <td>0.296296</td>\n",
       "      <td>0.296296</td>\n",
       "      <td>0.185185</td>\n",
       "      <td>2.074074</td>\n",
       "      <td>0.000000</td>\n",
       "      <td>0.740741</td>\n",
       "      <td>0.296296</td>\n",
       "      <td>0.296296</td>\n",
       "      <td>0.000000</td>\n",
       "    </tr>\n",
       "    <tr>\n",
       "      <th>2</th>\n",
       "      <td>2024-08-14 08:57:11+00:00</td>\n",
       "      <td>Apple supplier Foxconn's profit beats forecast...</td>\n",
       "      <td>Yimou Lee and Faith Hung</td>\n",
       "      <td>By Yimou Lee and Faith Hung\\nTAIPEI (Reuters) ...</td>\n",
       "      <td>2024-08</td>\n",
       "      <td>2024-08-12/2024-08-18</td>\n",
       "      <td>Apple</td>\n",
       "      <td>by yimou lee and faith hung taipei  reuters   ...</td>\n",
       "      <td>[By Yimou Lee and Faith Hung TAIPEI (Reuters) ...</td>\n",
       "      <td>0.013</td>\n",
       "      <td>...</td>\n",
       "      <td>1.552632</td>\n",
       "      <td>0.276316</td>\n",
       "      <td>0.684211</td>\n",
       "      <td>0.671053</td>\n",
       "      <td>2.052632</td>\n",
       "      <td>0.078947</td>\n",
       "      <td>1.315789</td>\n",
       "      <td>0.118421</td>\n",
       "      <td>0.000000</td>\n",
       "      <td>0.328947</td>\n",
       "    </tr>\n",
       "    <tr>\n",
       "      <th>3</th>\n",
       "      <td>2024-01-03 14:42:51+00:00</td>\n",
       "      <td>1 Artificial Intelligence (AI) Stock Poised to...</td>\n",
       "      <td>Parkev Tatevosian, CFA, The Motley Fool</td>\n",
       "      <td>Fool.com contributor Parkev Tatevosian highlig...</td>\n",
       "      <td>2024-01</td>\n",
       "      <td>2024-01-01/2024-01-07</td>\n",
       "      <td>Microsoft</td>\n",
       "      <td>fool com contributor parkev tatevosian highlig...</td>\n",
       "      <td>[Fool.com contributor Parkev Tatevosian highli...</td>\n",
       "      <td>0.070</td>\n",
       "      <td>...</td>\n",
       "      <td>1.027027</td>\n",
       "      <td>0.270270</td>\n",
       "      <td>0.486486</td>\n",
       "      <td>0.594595</td>\n",
       "      <td>2.054054</td>\n",
       "      <td>0.243243</td>\n",
       "      <td>1.162162</td>\n",
       "      <td>0.000000</td>\n",
       "      <td>0.000000</td>\n",
       "      <td>0.243243</td>\n",
       "    </tr>\n",
       "    <tr>\n",
       "      <th>4</th>\n",
       "      <td>2024-07-01 20:38:25+00:00</td>\n",
       "      <td>Ballmer Is Richer Than Gates, a First for Micr...</td>\n",
       "      <td>Vernal Galpotthawela</td>\n",
       "      <td>(Bloomberg) -- Steve Ballmer passed Bill Gates...</td>\n",
       "      <td>2024-07</td>\n",
       "      <td>2024-07-01/2024-07-07</td>\n",
       "      <td>Microsoft</td>\n",
       "      <td>bloomberg     steve ballmer passed bill gates ...</td>\n",
       "      <td>[(Bloomberg) -- Steve Ballmer passed Bill Gate...</td>\n",
       "      <td>0.019</td>\n",
       "      <td>...</td>\n",
       "      <td>1.000000</td>\n",
       "      <td>0.092308</td>\n",
       "      <td>0.000000</td>\n",
       "      <td>1.584615</td>\n",
       "      <td>2.446154</td>\n",
       "      <td>0.584615</td>\n",
       "      <td>1.953846</td>\n",
       "      <td>0.000000</td>\n",
       "      <td>0.000000</td>\n",
       "      <td>0.230769</td>\n",
       "    </tr>\n",
       "  </tbody>\n",
       "</table>\n",
       "<p>5 rows × 60 columns</p>\n",
       "</div>"
      ],
      "text/plain": [
       "                        Date  \\\n",
       "0  2024-01-02 10:05:00+00:00   \n",
       "1  2024-05-20 05:29:10+00:00   \n",
       "2  2024-08-14 08:57:11+00:00   \n",
       "3  2024-01-03 14:42:51+00:00   \n",
       "4  2024-07-01 20:38:25+00:00   \n",
       "\n",
       "                                               Title  \\\n",
       "0      Better Growth Stock in 2024: Amazon vs. Apple   \n",
       "1  Solana Wallet Phantom Surges to Third Place on...   \n",
       "2  Apple supplier Foxconn's profit beats forecast...   \n",
       "3  1 Artificial Intelligence (AI) Stock Poised to...   \n",
       "4  Ballmer Is Richer Than Gates, a First for Micr...   \n",
       "\n",
       "                                       Author  \\\n",
       "0                 Dani Cook, The Motley Fool    \n",
       "1                                     Hope C    \n",
       "2                   Yimou Lee and Faith Hung    \n",
       "3    Parkev Tatevosian, CFA, The Motley Fool    \n",
       "4                       Vernal Galpotthawela    \n",
       "\n",
       "                                                Text    Month  \\\n",
       "0  The new year is here, and there are plenty of ...  2024-01   \n",
       "1  Phantom Wallet, a popular cryptocurrency walle...  2024-05   \n",
       "2  By Yimou Lee and Faith Hung\\nTAIPEI (Reuters) ...  2024-08   \n",
       "3  Fool.com contributor Parkev Tatevosian highlig...  2024-01   \n",
       "4  (Bloomberg) -- Steve Ballmer passed Bill Gates...  2024-07   \n",
       "\n",
       "                    Week    Company  \\\n",
       "0  2024-01-01/2024-01-07      Apple   \n",
       "1  2024-05-20/2024-05-26      Apple   \n",
       "2  2024-08-12/2024-08-18      Apple   \n",
       "3  2024-01-01/2024-01-07  Microsoft   \n",
       "4  2024-07-01/2024-07-07  Microsoft   \n",
       "\n",
       "                               clean_content_context  \\\n",
       "0  the new year is here  and there are plenty of ...   \n",
       "1  phantom wallet  a popular cryptocurrency walle...   \n",
       "2  by yimou lee and faith hung taipei  reuters   ...   \n",
       "3  fool com contributor parkev tatevosian highlig...   \n",
       "4  bloomberg     steve ballmer passed bill gates ...   \n",
       "\n",
       "                                      text_sentences  Vader_neg  ...  \\\n",
       "0  [The new year is here, and there are plenty of...      0.033  ...   \n",
       "1  [Phantom Wallet, a popular cryptocurrency wall...      0.012  ...   \n",
       "2  [By Yimou Lee and Faith Hung TAIPEI (Reuters) ...      0.013  ...   \n",
       "3  [Fool.com contributor Parkev Tatevosian highli...      0.070  ...   \n",
       "4  [(Bloomberg) -- Steve Ballmer passed Bill Gate...      0.019  ...   \n",
       "\n",
       "   Emotion_Weighted_Mean_anticipation  Emotion_Weighted_Mean_fear  \\\n",
       "0                            0.880282                    0.471831   \n",
       "1                            0.666667                    0.296296   \n",
       "2                            1.552632                    0.276316   \n",
       "3                            1.027027                    0.270270   \n",
       "4                            1.000000                    0.092308   \n",
       "\n",
       "   Emotion_Weighted_Mean_negative Emotion_Weighted_Mean_joy  \\\n",
       "0                        0.725352                  0.683099   \n",
       "1                        0.296296                  0.185185   \n",
       "2                        0.684211                  0.671053   \n",
       "3                        0.486486                  0.594595   \n",
       "4                        0.000000                  1.584615   \n",
       "\n",
       "   Emotion_Weighted_Mean_positive Emotion_Weighted_Mean_surprise  \\\n",
       "0                        1.605634                       0.176056   \n",
       "1                        2.074074                       0.000000   \n",
       "2                        2.052632                       0.078947   \n",
       "3                        2.054054                       0.243243   \n",
       "4                        2.446154                       0.584615   \n",
       "\n",
       "   Emotion_Weighted_Mean_trust  Emotion_Weighted_Mean_disgust  \\\n",
       "0                     0.894366                       0.070423   \n",
       "1                     0.740741                       0.296296   \n",
       "2                     1.315789                       0.118421   \n",
       "3                     1.162162                       0.000000   \n",
       "4                     1.953846                       0.000000   \n",
       "\n",
       "   Emotion_Weighted_Mean_sadness Emotion_Weighted_Mean_anger  \n",
       "0                       0.218310                    0.260563  \n",
       "1                       0.296296                    0.000000  \n",
       "2                       0.000000                    0.328947  \n",
       "3                       0.000000                    0.243243  \n",
       "4                       0.000000                    0.230769  \n",
       "\n",
       "[5 rows x 60 columns]"
      ]
     },
     "execution_count": 168,
     "metadata": {},
     "output_type": "execute_result"
    }
   ],
   "source": [
    "# Assuming df and the other DataFrames are already defined\n",
    "\n",
    "# Add prefixes with only the first letter capitalized to each DataFrame\n",
    "# df_with_prefix = df.add_prefix('Main_')\n",
    "vader_sentiment_df_with_prefix = vader_sentiment_df.add_prefix('Vader_')\n",
    "# finbert_with_prefix = finbert.add_prefix('Finbert_')\n",
    "agg_finbert_df_with_prefix = agg_finbert_df.add_prefix('Agg_Finbert_')\n",
    "loughran_mcdonald_sentiments_df_with_prefix = loughran_mcdonald_sentiments_df.add_prefix('Loughran_')\n",
    "bart_summary_df_with_prefix = bart_summary_df.add_prefix('Bart_')\n",
    "emotion_agg_sum_df_with_prefix = emotion_agg_sum_df.add_prefix('Emotion_Sum_')\n",
    "emotion_agg_mean_df_with_prefix = emotion_agg_mean_df.add_prefix('Emotion_Mean_')\n",
    "emotion_agg_max_df_with_prefix = emotion_agg_max_df.add_prefix('Emotion_Max_')\n",
    "emotion_agg_weighted_mean_with_prefix = emotion_agg_weighted_mean.add_prefix('Emotion_Weighted_Mean_')\n",
    "\n",
    "# Concatenate all DataFrames along the columns (axis=1)\n",
    "merged_df = pd.concat([\n",
    "    df,\n",
    "    vader_sentiment_df_with_prefix,\n",
    "    finbert,\n",
    "    agg_finbert_df_with_prefix,\n",
    "    loughran_mcdonald_sentiments_df_with_prefix,\n",
    "    bart_summary_df_with_prefix,\n",
    "    emotion_agg_sum_df_with_prefix,\n",
    "    emotion_agg_mean_df_with_prefix,\n",
    "    emotion_agg_max_df_with_prefix,\n",
    "    emotion_agg_weighted_mean_with_prefix\n",
    "], axis=1)\n",
    "\n",
    "# Display the merged DataFrame\n",
    "merged_df.head()"
   ]
  },
  {
   "cell_type": "code",
   "execution_count": 169,
   "id": "0cdac47f-d176-4aa8-9f26-ab1b88b94681",
   "metadata": {},
   "outputs": [],
   "source": [
    "merged_df.to_csv('./dataframes/final_df.csv')"
   ]
  },
  {
   "cell_type": "code",
   "execution_count": 47,
   "id": "8d4853f5-f122-4ec1-97bb-adee75ab87d3",
   "metadata": {},
   "outputs": [
    {
     "data": {
      "image/png": "[encoded data removed]",
      "text/plain": [
       "<Figure size 1200x600 with 1 Axes>"
      ]
     },
     "metadata": {},
     "output_type": "display_data"
    }
   ],
   "source": [
    "import matplotlib.pyplot as plt\n",
    "import pandas as pd\n",
    "\n",
    "# Convert 'Date' to datetime and extract month for grouping\n",
    "merged_df['Month'] = pd.to_datetime(merged_df['Date']).dt.to_period(\"M\")\n",
    "monthly_counts = merged_df.groupby(['Month', 'Company']).size().unstack()\n",
    "\n",
    "# Sort columns based on the total counts across all months\n",
    "monthly_counts = monthly_counts[monthly_counts.sum(axis=0).sort_values(ascending=False).index]\n",
    "\n",
    "# Plot stacked bar chart\n",
    "monthly_counts.plot(kind='bar', stacked=True, figsize=(12, 6))\n",
    "plt.title('Monthly Article Count per Company')\n",
    "plt.xlabel('Month')\n",
    "plt.ylabel('Article Count')\n",
    "plt.legend(title='Company', bbox_to_anchor=(1.05, 1), loc='upper left')\n",
    "plt.tight_layout()\n",
    "plt.show()"
   ]
  },
  {
   "cell_type": "markdown",
   "id": "a63da19f-4bfc-4b6d-a6e6-db11025cdbc0",
   "metadata": {},
   "source": [
    "# Downloading and Storing Hourly Stock Data for Selected Companies"
   ]
  },
  {
   "cell_type": "markdown",
   "id": "831d9490-2357-4c48-abc9-3289877b3108",
   "metadata": {},
   "source": [
    "This section retrieves hourly stock data for each company in our tickers dictionary, storing the results for analysis."
   ]
  },
  {
   "cell_type": "code",
   "execution_count": null,
   "id": "525df3ed-de85-4af3-98c5-339423b6feaf",
   "metadata": {},
   "outputs": [],
   "source": [
    "# tickers is a dictionary located in utils.py\n",
    "tickers = {\n",
    "    'Apple': 'AAPL',\n",
    "    'Microsoft': 'MSFT',\n",
    "    'Nvidia': 'NVDA',\n",
    "    'Amazon': 'AMZN',\n",
    "    'Meta': 'META',\n",
    "    'Alphabet': 'GOOGL',\n",
    "    # 'Alphabet_Class_C': 'GOOG',\n",
    "    'Berkshire_Hathaway': 'BRK-A',\n",
    "    # 'Berkshire_Hathaway_Class_B': 'BRK.B',\n",
    "    'Broadcom': 'AVGO',\n",
    "    'Eli_Lilly': 'LLY',\n",
    "    'JPMorgan': 'JPM',\n",
    "    'Tesla': 'TSLA'\n",
    "}\n",
    "start_date = '2024-01-01'\n",
    "stock_dfs = {}\n",
    "for company in tickers:\n",
    "    stock_hourly_data = yf.download(tickers[company], start=start_date, end=pd.Timestamp.today(), interval='1h').reset_index()\n",
    "    stock_hourly_data['Datetime'] = stock_hourly_data['Datetime'].dt.tz_convert('UTC')\n",
    "    stock_dfs[company] = stock_hourly_data.copy()\n",
    "    stock_hourly_data.to_csv(f'./dataframes/{company}_stock_df.csv')\n",
    "# stock_dfs"
   ]
  },
  {
   "cell_type": "markdown",
   "id": "1e9605a6-10e4-4165-8051-2b49b219829d",
   "metadata": {},
   "source": [
    "### 🔗 **Next Steps**\n",
    "\n",
    "In this project, we have meticulously analyzed financial articles to extract valuable sentiment and emotion insights. For a more interactive experience and deeper analysis, please explore our dedicated dashboard, where you can visualize trends and correlations with market movements.\n",
    "\n",
    "You can access the dashboard [here](https://news-analysis-dashboard.onrender.com) and view the source code on GitHub [here](https://github.com/arieg88/NewsAnalysisDashboard).\n",
    "\n",
    "Thank you for following along this journey into financial sentiment analysis!"
   ]
  }
 ],
 "metadata": {
  "kernelspec": {
   "display_name": "Python 3 (ipykernel)",
   "language": "python",
   "name": "python3"
  },
  "language_info": {
   "codemirror_mode": {
    "name": "ipython",
    "version": 3
   },
   "file_extension": ".py",
   "mimetype": "text/x-python",
   "name": "python",
   "nbconvert_exporter": "python",
   "pygments_lexer": "ipython3",
   "version": "3.11.0"
  }
 },
 "nbformat": 4,
 "nbformat_minor": 5
}
